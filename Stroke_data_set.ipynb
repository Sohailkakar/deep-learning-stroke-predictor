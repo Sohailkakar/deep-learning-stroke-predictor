{
  "nbformat": 4,
  "nbformat_minor": 0,
  "metadata": {
    "colab": {
      "provenance": []
    },
    "kernelspec": {
      "name": "python3",
      "display_name": "Python 3"
    },
    "language_info": {
      "name": "python"
    }
  },
  "cells": [
    {
      "cell_type": "code",
      "execution_count": 5,
      "metadata": {
        "id": "oN94oYW9RzIF"
      },
      "outputs": [],
      "source": [
        "# STEP 1: Load & inspect dataset\n",
        "\n",
        "import pandas as pd"
      ]
    },
    {
      "cell_type": "code",
      "source": [
        "from google.colab import files\n",
        "uploaded = files.upload(\"healthcare-dataset-stroke-data.csv\")\n"
      ],
      "metadata": {
        "colab": {
          "base_uri": "https://localhost:8080/",
          "height": 73
        },
        "id": "Bs1Em1AqSlYa",
        "outputId": "b42cf93a-5258-4a9b-e98b-090b3a073664"
      },
      "execution_count": 6,
      "outputs": [
        {
          "output_type": "display_data",
          "data": {
            "text/plain": [
              "<IPython.core.display.HTML object>"
            ],
            "text/html": [
              "\n",
              "     <input type=\"file\" id=\"files-af9da101-909a-49d6-8638-149ece8d70d8\" name=\"files[]\" multiple disabled\n",
              "        style=\"border:none\" />\n",
              "     <output id=\"result-af9da101-909a-49d6-8638-149ece8d70d8\">\n",
              "      Upload widget is only available when the cell has been executed in the\n",
              "      current browser session. Please rerun this cell to enable.\n",
              "      </output>\n",
              "      <script>// Copyright 2017 Google LLC\n",
              "//\n",
              "// Licensed under the Apache License, Version 2.0 (the \"License\");\n",
              "// you may not use this file except in compliance with the License.\n",
              "// You may obtain a copy of the License at\n",
              "//\n",
              "//      http://www.apache.org/licenses/LICENSE-2.0\n",
              "//\n",
              "// Unless required by applicable law or agreed to in writing, software\n",
              "// distributed under the License is distributed on an \"AS IS\" BASIS,\n",
              "// WITHOUT WARRANTIES OR CONDITIONS OF ANY KIND, either express or implied.\n",
              "// See the License for the specific language governing permissions and\n",
              "// limitations under the License.\n",
              "\n",
              "/**\n",
              " * @fileoverview Helpers for google.colab Python module.\n",
              " */\n",
              "(function(scope) {\n",
              "function span(text, styleAttributes = {}) {\n",
              "  const element = document.createElement('span');\n",
              "  element.textContent = text;\n",
              "  for (const key of Object.keys(styleAttributes)) {\n",
              "    element.style[key] = styleAttributes[key];\n",
              "  }\n",
              "  return element;\n",
              "}\n",
              "\n",
              "// Max number of bytes which will be uploaded at a time.\n",
              "const MAX_PAYLOAD_SIZE = 100 * 1024;\n",
              "\n",
              "function _uploadFiles(inputId, outputId) {\n",
              "  const steps = uploadFilesStep(inputId, outputId);\n",
              "  const outputElement = document.getElementById(outputId);\n",
              "  // Cache steps on the outputElement to make it available for the next call\n",
              "  // to uploadFilesContinue from Python.\n",
              "  outputElement.steps = steps;\n",
              "\n",
              "  return _uploadFilesContinue(outputId);\n",
              "}\n",
              "\n",
              "// This is roughly an async generator (not supported in the browser yet),\n",
              "// where there are multiple asynchronous steps and the Python side is going\n",
              "// to poll for completion of each step.\n",
              "// This uses a Promise to block the python side on completion of each step,\n",
              "// then passes the result of the previous step as the input to the next step.\n",
              "function _uploadFilesContinue(outputId) {\n",
              "  const outputElement = document.getElementById(outputId);\n",
              "  const steps = outputElement.steps;\n",
              "\n",
              "  const next = steps.next(outputElement.lastPromiseValue);\n",
              "  return Promise.resolve(next.value.promise).then((value) => {\n",
              "    // Cache the last promise value to make it available to the next\n",
              "    // step of the generator.\n",
              "    outputElement.lastPromiseValue = value;\n",
              "    return next.value.response;\n",
              "  });\n",
              "}\n",
              "\n",
              "/**\n",
              " * Generator function which is called between each async step of the upload\n",
              " * process.\n",
              " * @param {string} inputId Element ID of the input file picker element.\n",
              " * @param {string} outputId Element ID of the output display.\n",
              " * @return {!Iterable<!Object>} Iterable of next steps.\n",
              " */\n",
              "function* uploadFilesStep(inputId, outputId) {\n",
              "  const inputElement = document.getElementById(inputId);\n",
              "  inputElement.disabled = false;\n",
              "\n",
              "  const outputElement = document.getElementById(outputId);\n",
              "  outputElement.innerHTML = '';\n",
              "\n",
              "  const pickedPromise = new Promise((resolve) => {\n",
              "    inputElement.addEventListener('change', (e) => {\n",
              "      resolve(e.target.files);\n",
              "    });\n",
              "  });\n",
              "\n",
              "  const cancel = document.createElement('button');\n",
              "  inputElement.parentElement.appendChild(cancel);\n",
              "  cancel.textContent = 'Cancel upload';\n",
              "  const cancelPromise = new Promise((resolve) => {\n",
              "    cancel.onclick = () => {\n",
              "      resolve(null);\n",
              "    };\n",
              "  });\n",
              "\n",
              "  // Wait for the user to pick the files.\n",
              "  const files = yield {\n",
              "    promise: Promise.race([pickedPromise, cancelPromise]),\n",
              "    response: {\n",
              "      action: 'starting',\n",
              "    }\n",
              "  };\n",
              "\n",
              "  cancel.remove();\n",
              "\n",
              "  // Disable the input element since further picks are not allowed.\n",
              "  inputElement.disabled = true;\n",
              "\n",
              "  if (!files) {\n",
              "    return {\n",
              "      response: {\n",
              "        action: 'complete',\n",
              "      }\n",
              "    };\n",
              "  }\n",
              "\n",
              "  for (const file of files) {\n",
              "    const li = document.createElement('li');\n",
              "    li.append(span(file.name, {fontWeight: 'bold'}));\n",
              "    li.append(span(\n",
              "        `(${file.type || 'n/a'}) - ${file.size} bytes, ` +\n",
              "        `last modified: ${\n",
              "            file.lastModifiedDate ? file.lastModifiedDate.toLocaleDateString() :\n",
              "                                    'n/a'} - `));\n",
              "    const percent = span('0% done');\n",
              "    li.appendChild(percent);\n",
              "\n",
              "    outputElement.appendChild(li);\n",
              "\n",
              "    const fileDataPromise = new Promise((resolve) => {\n",
              "      const reader = new FileReader();\n",
              "      reader.onload = (e) => {\n",
              "        resolve(e.target.result);\n",
              "      };\n",
              "      reader.readAsArrayBuffer(file);\n",
              "    });\n",
              "    // Wait for the data to be ready.\n",
              "    let fileData = yield {\n",
              "      promise: fileDataPromise,\n",
              "      response: {\n",
              "        action: 'continue',\n",
              "      }\n",
              "    };\n",
              "\n",
              "    // Use a chunked sending to avoid message size limits. See b/62115660.\n",
              "    let position = 0;\n",
              "    do {\n",
              "      const length = Math.min(fileData.byteLength - position, MAX_PAYLOAD_SIZE);\n",
              "      const chunk = new Uint8Array(fileData, position, length);\n",
              "      position += length;\n",
              "\n",
              "      const base64 = btoa(String.fromCharCode.apply(null, chunk));\n",
              "      yield {\n",
              "        response: {\n",
              "          action: 'append',\n",
              "          file: file.name,\n",
              "          data: base64,\n",
              "        },\n",
              "      };\n",
              "\n",
              "      let percentDone = fileData.byteLength === 0 ?\n",
              "          100 :\n",
              "          Math.round((position / fileData.byteLength) * 100);\n",
              "      percent.textContent = `${percentDone}% done`;\n",
              "\n",
              "    } while (position < fileData.byteLength);\n",
              "  }\n",
              "\n",
              "  // All done.\n",
              "  yield {\n",
              "    response: {\n",
              "      action: 'complete',\n",
              "    }\n",
              "  };\n",
              "}\n",
              "\n",
              "scope.google = scope.google || {};\n",
              "scope.google.colab = scope.google.colab || {};\n",
              "scope.google.colab._files = {\n",
              "  _uploadFiles,\n",
              "  _uploadFilesContinue,\n",
              "};\n",
              "})(self);\n",
              "</script> "
            ]
          },
          "metadata": {}
        },
        {
          "output_type": "stream",
          "name": "stdout",
          "text": [
            "Saving healthcare-dataset-stroke-data.csv to healthcare-dataset-stroke-data.csv/healthcare-dataset-stroke-data (1).csv\n"
          ]
        }
      ]
    },
    {
      "cell_type": "code",
      "source": [
        "# Load the dataset\n",
        "df = pd.read_csv(\"healthcare-dataset-stroke-data.csv/healthcare-dataset-stroke-data (1).csv\")"
      ],
      "metadata": {
        "id": "DB6FW3sGR6yR"
      },
      "execution_count": 10,
      "outputs": []
    },
    {
      "cell_type": "code",
      "source": [
        "df.head()"
      ],
      "metadata": {
        "colab": {
          "base_uri": "https://localhost:8080/",
          "height": 206
        },
        "id": "3gGoBV7AUMXx",
        "outputId": "a0938de0-88ec-4e12-877c-f9157911787d"
      },
      "execution_count": 11,
      "outputs": [
        {
          "output_type": "execute_result",
          "data": {
            "text/plain": [
              "      id  gender   age  hypertension  heart_disease ever_married  \\\n",
              "0   9046    Male  67.0             0              1          Yes   \n",
              "1  51676  Female  61.0             0              0          Yes   \n",
              "2  31112    Male  80.0             0              1          Yes   \n",
              "3  60182  Female  49.0             0              0          Yes   \n",
              "4   1665  Female  79.0             1              0          Yes   \n",
              "\n",
              "       work_type Residence_type  avg_glucose_level   bmi   smoking_status  \\\n",
              "0        Private          Urban             228.69  36.6  formerly smoked   \n",
              "1  Self-employed          Rural             202.21   NaN     never smoked   \n",
              "2        Private          Rural             105.92  32.5     never smoked   \n",
              "3        Private          Urban             171.23  34.4           smokes   \n",
              "4  Self-employed          Rural             174.12  24.0     never smoked   \n",
              "\n",
              "   stroke  \n",
              "0       1  \n",
              "1       1  \n",
              "2       1  \n",
              "3       1  \n",
              "4       1  "
            ],
            "text/html": [
              "\n",
              "  <div id=\"df-02b6a353-3fbd-48ca-b9a7-dab03869be7b\" class=\"colab-df-container\">\n",
              "    <div>\n",
              "<style scoped>\n",
              "    .dataframe tbody tr th:only-of-type {\n",
              "        vertical-align: middle;\n",
              "    }\n",
              "\n",
              "    .dataframe tbody tr th {\n",
              "        vertical-align: top;\n",
              "    }\n",
              "\n",
              "    .dataframe thead th {\n",
              "        text-align: right;\n",
              "    }\n",
              "</style>\n",
              "<table border=\"1\" class=\"dataframe\">\n",
              "  <thead>\n",
              "    <tr style=\"text-align: right;\">\n",
              "      <th></th>\n",
              "      <th>id</th>\n",
              "      <th>gender</th>\n",
              "      <th>age</th>\n",
              "      <th>hypertension</th>\n",
              "      <th>heart_disease</th>\n",
              "      <th>ever_married</th>\n",
              "      <th>work_type</th>\n",
              "      <th>Residence_type</th>\n",
              "      <th>avg_glucose_level</th>\n",
              "      <th>bmi</th>\n",
              "      <th>smoking_status</th>\n",
              "      <th>stroke</th>\n",
              "    </tr>\n",
              "  </thead>\n",
              "  <tbody>\n",
              "    <tr>\n",
              "      <th>0</th>\n",
              "      <td>9046</td>\n",
              "      <td>Male</td>\n",
              "      <td>67.0</td>\n",
              "      <td>0</td>\n",
              "      <td>1</td>\n",
              "      <td>Yes</td>\n",
              "      <td>Private</td>\n",
              "      <td>Urban</td>\n",
              "      <td>228.69</td>\n",
              "      <td>36.6</td>\n",
              "      <td>formerly smoked</td>\n",
              "      <td>1</td>\n",
              "    </tr>\n",
              "    <tr>\n",
              "      <th>1</th>\n",
              "      <td>51676</td>\n",
              "      <td>Female</td>\n",
              "      <td>61.0</td>\n",
              "      <td>0</td>\n",
              "      <td>0</td>\n",
              "      <td>Yes</td>\n",
              "      <td>Self-employed</td>\n",
              "      <td>Rural</td>\n",
              "      <td>202.21</td>\n",
              "      <td>NaN</td>\n",
              "      <td>never smoked</td>\n",
              "      <td>1</td>\n",
              "    </tr>\n",
              "    <tr>\n",
              "      <th>2</th>\n",
              "      <td>31112</td>\n",
              "      <td>Male</td>\n",
              "      <td>80.0</td>\n",
              "      <td>0</td>\n",
              "      <td>1</td>\n",
              "      <td>Yes</td>\n",
              "      <td>Private</td>\n",
              "      <td>Rural</td>\n",
              "      <td>105.92</td>\n",
              "      <td>32.5</td>\n",
              "      <td>never smoked</td>\n",
              "      <td>1</td>\n",
              "    </tr>\n",
              "    <tr>\n",
              "      <th>3</th>\n",
              "      <td>60182</td>\n",
              "      <td>Female</td>\n",
              "      <td>49.0</td>\n",
              "      <td>0</td>\n",
              "      <td>0</td>\n",
              "      <td>Yes</td>\n",
              "      <td>Private</td>\n",
              "      <td>Urban</td>\n",
              "      <td>171.23</td>\n",
              "      <td>34.4</td>\n",
              "      <td>smokes</td>\n",
              "      <td>1</td>\n",
              "    </tr>\n",
              "    <tr>\n",
              "      <th>4</th>\n",
              "      <td>1665</td>\n",
              "      <td>Female</td>\n",
              "      <td>79.0</td>\n",
              "      <td>1</td>\n",
              "      <td>0</td>\n",
              "      <td>Yes</td>\n",
              "      <td>Self-employed</td>\n",
              "      <td>Rural</td>\n",
              "      <td>174.12</td>\n",
              "      <td>24.0</td>\n",
              "      <td>never smoked</td>\n",
              "      <td>1</td>\n",
              "    </tr>\n",
              "  </tbody>\n",
              "</table>\n",
              "</div>\n",
              "    <div class=\"colab-df-buttons\">\n",
              "\n",
              "  <div class=\"colab-df-container\">\n",
              "    <button class=\"colab-df-convert\" onclick=\"convertToInteractive('df-02b6a353-3fbd-48ca-b9a7-dab03869be7b')\"\n",
              "            title=\"Convert this dataframe to an interactive table.\"\n",
              "            style=\"display:none;\">\n",
              "\n",
              "  <svg xmlns=\"http://www.w3.org/2000/svg\" height=\"24px\" viewBox=\"0 -960 960 960\">\n",
              "    <path d=\"M120-120v-720h720v720H120Zm60-500h600v-160H180v160Zm220 220h160v-160H400v160Zm0 220h160v-160H400v160ZM180-400h160v-160H180v160Zm440 0h160v-160H620v160ZM180-180h160v-160H180v160Zm440 0h160v-160H620v160Z\"/>\n",
              "  </svg>\n",
              "    </button>\n",
              "\n",
              "  <style>\n",
              "    .colab-df-container {\n",
              "      display:flex;\n",
              "      gap: 12px;\n",
              "    }\n",
              "\n",
              "    .colab-df-convert {\n",
              "      background-color: #E8F0FE;\n",
              "      border: none;\n",
              "      border-radius: 50%;\n",
              "      cursor: pointer;\n",
              "      display: none;\n",
              "      fill: #1967D2;\n",
              "      height: 32px;\n",
              "      padding: 0 0 0 0;\n",
              "      width: 32px;\n",
              "    }\n",
              "\n",
              "    .colab-df-convert:hover {\n",
              "      background-color: #E2EBFA;\n",
              "      box-shadow: 0px 1px 2px rgba(60, 64, 67, 0.3), 0px 1px 3px 1px rgba(60, 64, 67, 0.15);\n",
              "      fill: #174EA6;\n",
              "    }\n",
              "\n",
              "    .colab-df-buttons div {\n",
              "      margin-bottom: 4px;\n",
              "    }\n",
              "\n",
              "    [theme=dark] .colab-df-convert {\n",
              "      background-color: #3B4455;\n",
              "      fill: #D2E3FC;\n",
              "    }\n",
              "\n",
              "    [theme=dark] .colab-df-convert:hover {\n",
              "      background-color: #434B5C;\n",
              "      box-shadow: 0px 1px 3px 1px rgba(0, 0, 0, 0.15);\n",
              "      filter: drop-shadow(0px 1px 2px rgba(0, 0, 0, 0.3));\n",
              "      fill: #FFFFFF;\n",
              "    }\n",
              "  </style>\n",
              "\n",
              "    <script>\n",
              "      const buttonEl =\n",
              "        document.querySelector('#df-02b6a353-3fbd-48ca-b9a7-dab03869be7b button.colab-df-convert');\n",
              "      buttonEl.style.display =\n",
              "        google.colab.kernel.accessAllowed ? 'block' : 'none';\n",
              "\n",
              "      async function convertToInteractive(key) {\n",
              "        const element = document.querySelector('#df-02b6a353-3fbd-48ca-b9a7-dab03869be7b');\n",
              "        const dataTable =\n",
              "          await google.colab.kernel.invokeFunction('convertToInteractive',\n",
              "                                                    [key], {});\n",
              "        if (!dataTable) return;\n",
              "\n",
              "        const docLinkHtml = 'Like what you see? Visit the ' +\n",
              "          '<a target=\"_blank\" href=https://colab.research.google.com/notebooks/data_table.ipynb>data table notebook</a>'\n",
              "          + ' to learn more about interactive tables.';\n",
              "        element.innerHTML = '';\n",
              "        dataTable['output_type'] = 'display_data';\n",
              "        await google.colab.output.renderOutput(dataTable, element);\n",
              "        const docLink = document.createElement('div');\n",
              "        docLink.innerHTML = docLinkHtml;\n",
              "        element.appendChild(docLink);\n",
              "      }\n",
              "    </script>\n",
              "  </div>\n",
              "\n",
              "\n",
              "    <div id=\"df-7d281b75-aa9a-4f7f-899d-726877e36ddd\">\n",
              "      <button class=\"colab-df-quickchart\" onclick=\"quickchart('df-7d281b75-aa9a-4f7f-899d-726877e36ddd')\"\n",
              "                title=\"Suggest charts\"\n",
              "                style=\"display:none;\">\n",
              "\n",
              "<svg xmlns=\"http://www.w3.org/2000/svg\" height=\"24px\"viewBox=\"0 0 24 24\"\n",
              "     width=\"24px\">\n",
              "    <g>\n",
              "        <path d=\"M19 3H5c-1.1 0-2 .9-2 2v14c0 1.1.9 2 2 2h14c1.1 0 2-.9 2-2V5c0-1.1-.9-2-2-2zM9 17H7v-7h2v7zm4 0h-2V7h2v10zm4 0h-2v-4h2v4z\"/>\n",
              "    </g>\n",
              "</svg>\n",
              "      </button>\n",
              "\n",
              "<style>\n",
              "  .colab-df-quickchart {\n",
              "      --bg-color: #E8F0FE;\n",
              "      --fill-color: #1967D2;\n",
              "      --hover-bg-color: #E2EBFA;\n",
              "      --hover-fill-color: #174EA6;\n",
              "      --disabled-fill-color: #AAA;\n",
              "      --disabled-bg-color: #DDD;\n",
              "  }\n",
              "\n",
              "  [theme=dark] .colab-df-quickchart {\n",
              "      --bg-color: #3B4455;\n",
              "      --fill-color: #D2E3FC;\n",
              "      --hover-bg-color: #434B5C;\n",
              "      --hover-fill-color: #FFFFFF;\n",
              "      --disabled-bg-color: #3B4455;\n",
              "      --disabled-fill-color: #666;\n",
              "  }\n",
              "\n",
              "  .colab-df-quickchart {\n",
              "    background-color: var(--bg-color);\n",
              "    border: none;\n",
              "    border-radius: 50%;\n",
              "    cursor: pointer;\n",
              "    display: none;\n",
              "    fill: var(--fill-color);\n",
              "    height: 32px;\n",
              "    padding: 0;\n",
              "    width: 32px;\n",
              "  }\n",
              "\n",
              "  .colab-df-quickchart:hover {\n",
              "    background-color: var(--hover-bg-color);\n",
              "    box-shadow: 0 1px 2px rgba(60, 64, 67, 0.3), 0 1px 3px 1px rgba(60, 64, 67, 0.15);\n",
              "    fill: var(--button-hover-fill-color);\n",
              "  }\n",
              "\n",
              "  .colab-df-quickchart-complete:disabled,\n",
              "  .colab-df-quickchart-complete:disabled:hover {\n",
              "    background-color: var(--disabled-bg-color);\n",
              "    fill: var(--disabled-fill-color);\n",
              "    box-shadow: none;\n",
              "  }\n",
              "\n",
              "  .colab-df-spinner {\n",
              "    border: 2px solid var(--fill-color);\n",
              "    border-color: transparent;\n",
              "    border-bottom-color: var(--fill-color);\n",
              "    animation:\n",
              "      spin 1s steps(1) infinite;\n",
              "  }\n",
              "\n",
              "  @keyframes spin {\n",
              "    0% {\n",
              "      border-color: transparent;\n",
              "      border-bottom-color: var(--fill-color);\n",
              "      border-left-color: var(--fill-color);\n",
              "    }\n",
              "    20% {\n",
              "      border-color: transparent;\n",
              "      border-left-color: var(--fill-color);\n",
              "      border-top-color: var(--fill-color);\n",
              "    }\n",
              "    30% {\n",
              "      border-color: transparent;\n",
              "      border-left-color: var(--fill-color);\n",
              "      border-top-color: var(--fill-color);\n",
              "      border-right-color: var(--fill-color);\n",
              "    }\n",
              "    40% {\n",
              "      border-color: transparent;\n",
              "      border-right-color: var(--fill-color);\n",
              "      border-top-color: var(--fill-color);\n",
              "    }\n",
              "    60% {\n",
              "      border-color: transparent;\n",
              "      border-right-color: var(--fill-color);\n",
              "    }\n",
              "    80% {\n",
              "      border-color: transparent;\n",
              "      border-right-color: var(--fill-color);\n",
              "      border-bottom-color: var(--fill-color);\n",
              "    }\n",
              "    90% {\n",
              "      border-color: transparent;\n",
              "      border-bottom-color: var(--fill-color);\n",
              "    }\n",
              "  }\n",
              "</style>\n",
              "\n",
              "      <script>\n",
              "        async function quickchart(key) {\n",
              "          const quickchartButtonEl =\n",
              "            document.querySelector('#' + key + ' button');\n",
              "          quickchartButtonEl.disabled = true;  // To prevent multiple clicks.\n",
              "          quickchartButtonEl.classList.add('colab-df-spinner');\n",
              "          try {\n",
              "            const charts = await google.colab.kernel.invokeFunction(\n",
              "                'suggestCharts', [key], {});\n",
              "          } catch (error) {\n",
              "            console.error('Error during call to suggestCharts:', error);\n",
              "          }\n",
              "          quickchartButtonEl.classList.remove('colab-df-spinner');\n",
              "          quickchartButtonEl.classList.add('colab-df-quickchart-complete');\n",
              "        }\n",
              "        (() => {\n",
              "          let quickchartButtonEl =\n",
              "            document.querySelector('#df-7d281b75-aa9a-4f7f-899d-726877e36ddd button');\n",
              "          quickchartButtonEl.style.display =\n",
              "            google.colab.kernel.accessAllowed ? 'block' : 'none';\n",
              "        })();\n",
              "      </script>\n",
              "    </div>\n",
              "\n",
              "    </div>\n",
              "  </div>\n"
            ],
            "application/vnd.google.colaboratory.intrinsic+json": {
              "type": "dataframe",
              "variable_name": "df",
              "summary": "{\n  \"name\": \"df\",\n  \"rows\": 5110,\n  \"fields\": [\n    {\n      \"column\": \"id\",\n      \"properties\": {\n        \"dtype\": \"number\",\n        \"std\": 21161,\n        \"min\": 67,\n        \"max\": 72940,\n        \"num_unique_values\": 5110,\n        \"samples\": [\n          40041,\n          55244,\n          70992\n        ],\n        \"semantic_type\": \"\",\n        \"description\": \"\"\n      }\n    },\n    {\n      \"column\": \"gender\",\n      \"properties\": {\n        \"dtype\": \"category\",\n        \"num_unique_values\": 3,\n        \"samples\": [\n          \"Male\",\n          \"Female\",\n          \"Other\"\n        ],\n        \"semantic_type\": \"\",\n        \"description\": \"\"\n      }\n    },\n    {\n      \"column\": \"age\",\n      \"properties\": {\n        \"dtype\": \"number\",\n        \"std\": 22.61264672311352,\n        \"min\": 0.08,\n        \"max\": 82.0,\n        \"num_unique_values\": 104,\n        \"samples\": [\n          45.0,\n          24.0,\n          33.0\n        ],\n        \"semantic_type\": \"\",\n        \"description\": \"\"\n      }\n    },\n    {\n      \"column\": \"hypertension\",\n      \"properties\": {\n        \"dtype\": \"number\",\n        \"std\": 0,\n        \"min\": 0,\n        \"max\": 1,\n        \"num_unique_values\": 2,\n        \"samples\": [\n          1,\n          0\n        ],\n        \"semantic_type\": \"\",\n        \"description\": \"\"\n      }\n    },\n    {\n      \"column\": \"heart_disease\",\n      \"properties\": {\n        \"dtype\": \"number\",\n        \"std\": 0,\n        \"min\": 0,\n        \"max\": 1,\n        \"num_unique_values\": 2,\n        \"samples\": [\n          0,\n          1\n        ],\n        \"semantic_type\": \"\",\n        \"description\": \"\"\n      }\n    },\n    {\n      \"column\": \"ever_married\",\n      \"properties\": {\n        \"dtype\": \"category\",\n        \"num_unique_values\": 2,\n        \"samples\": [\n          \"No\",\n          \"Yes\"\n        ],\n        \"semantic_type\": \"\",\n        \"description\": \"\"\n      }\n    },\n    {\n      \"column\": \"work_type\",\n      \"properties\": {\n        \"dtype\": \"category\",\n        \"num_unique_values\": 5,\n        \"samples\": [\n          \"Self-employed\",\n          \"Never_worked\"\n        ],\n        \"semantic_type\": \"\",\n        \"description\": \"\"\n      }\n    },\n    {\n      \"column\": \"Residence_type\",\n      \"properties\": {\n        \"dtype\": \"category\",\n        \"num_unique_values\": 2,\n        \"samples\": [\n          \"Rural\",\n          \"Urban\"\n        ],\n        \"semantic_type\": \"\",\n        \"description\": \"\"\n      }\n    },\n    {\n      \"column\": \"avg_glucose_level\",\n      \"properties\": {\n        \"dtype\": \"number\",\n        \"std\": 45.28356015058203,\n        \"min\": 55.12,\n        \"max\": 271.74,\n        \"num_unique_values\": 3979,\n        \"samples\": [\n          178.29,\n          156.69\n        ],\n        \"semantic_type\": \"\",\n        \"description\": \"\"\n      }\n    },\n    {\n      \"column\": \"bmi\",\n      \"properties\": {\n        \"dtype\": \"number\",\n        \"std\": 7.854066729680158,\n        \"min\": 10.3,\n        \"max\": 97.6,\n        \"num_unique_values\": 418,\n        \"samples\": [\n          49.5,\n          18.5\n        ],\n        \"semantic_type\": \"\",\n        \"description\": \"\"\n      }\n    },\n    {\n      \"column\": \"smoking_status\",\n      \"properties\": {\n        \"dtype\": \"category\",\n        \"num_unique_values\": 4,\n        \"samples\": [\n          \"never smoked\",\n          \"Unknown\"\n        ],\n        \"semantic_type\": \"\",\n        \"description\": \"\"\n      }\n    },\n    {\n      \"column\": \"stroke\",\n      \"properties\": {\n        \"dtype\": \"number\",\n        \"std\": 0,\n        \"min\": 0,\n        \"max\": 1,\n        \"num_unique_values\": 2,\n        \"samples\": [\n          0,\n          1\n        ],\n        \"semantic_type\": \"\",\n        \"description\": \"\"\n      }\n    }\n  ]\n}"
            }
          },
          "metadata": {},
          "execution_count": 11
        }
      ]
    },
    {
      "cell_type": "code",
      "source": [
        "# Get basic info\n",
        "print(\"\\nDataset Info:\")\n",
        "print(df.info())"
      ],
      "metadata": {
        "colab": {
          "base_uri": "https://localhost:8080/"
        },
        "id": "TUYN48HjUOVu",
        "outputId": "6317307a-6489-4083-a5d4-e09f2c514362"
      },
      "execution_count": 12,
      "outputs": [
        {
          "output_type": "stream",
          "name": "stdout",
          "text": [
            "\n",
            "Dataset Info:\n",
            "<class 'pandas.core.frame.DataFrame'>\n",
            "RangeIndex: 5110 entries, 0 to 5109\n",
            "Data columns (total 12 columns):\n",
            " #   Column             Non-Null Count  Dtype  \n",
            "---  ------             --------------  -----  \n",
            " 0   id                 5110 non-null   int64  \n",
            " 1   gender             5110 non-null   object \n",
            " 2   age                5110 non-null   float64\n",
            " 3   hypertension       5110 non-null   int64  \n",
            " 4   heart_disease      5110 non-null   int64  \n",
            " 5   ever_married       5110 non-null   object \n",
            " 6   work_type          5110 non-null   object \n",
            " 7   Residence_type     5110 non-null   object \n",
            " 8   avg_glucose_level  5110 non-null   float64\n",
            " 9   bmi                4909 non-null   float64\n",
            " 10  smoking_status     5110 non-null   object \n",
            " 11  stroke             5110 non-null   int64  \n",
            "dtypes: float64(3), int64(4), object(5)\n",
            "memory usage: 479.2+ KB\n",
            "None\n"
          ]
        }
      ]
    },
    {
      "cell_type": "code",
      "source": [
        "# Summary stats\n",
        "print(\"\\nSummary Statistics:\")\n",
        "print(df.describe())"
      ],
      "metadata": {
        "colab": {
          "base_uri": "https://localhost:8080/"
        },
        "id": "jm-ri0OGUiJP",
        "outputId": "97ad8d78-b21c-44a2-d007-dedd3ded0442"
      },
      "execution_count": 13,
      "outputs": [
        {
          "output_type": "stream",
          "name": "stdout",
          "text": [
            "\n",
            "Summary Statistics:\n",
            "                 id          age  hypertension  heart_disease  \\\n",
            "count   5110.000000  5110.000000   5110.000000    5110.000000   \n",
            "mean   36517.829354    43.226614      0.097456       0.054012   \n",
            "std    21161.721625    22.612647      0.296607       0.226063   \n",
            "min       67.000000     0.080000      0.000000       0.000000   \n",
            "25%    17741.250000    25.000000      0.000000       0.000000   \n",
            "50%    36932.000000    45.000000      0.000000       0.000000   \n",
            "75%    54682.000000    61.000000      0.000000       0.000000   \n",
            "max    72940.000000    82.000000      1.000000       1.000000   \n",
            "\n",
            "       avg_glucose_level          bmi       stroke  \n",
            "count        5110.000000  4909.000000  5110.000000  \n",
            "mean          106.147677    28.893237     0.048728  \n",
            "std            45.283560     7.854067     0.215320  \n",
            "min            55.120000    10.300000     0.000000  \n",
            "25%            77.245000    23.500000     0.000000  \n",
            "50%            91.885000    28.100000     0.000000  \n",
            "75%           114.090000    33.100000     0.000000  \n",
            "max           271.740000    97.600000     1.000000  \n"
          ]
        }
      ]
    },
    {
      "cell_type": "code",
      "source": [
        "# Check for null values\n",
        "print(\"\\nMissing Values:\")\n",
        "print(df.isnull().sum())"
      ],
      "metadata": {
        "colab": {
          "base_uri": "https://localhost:8080/"
        },
        "id": "BhbpWBtIUm-h",
        "outputId": "7d52f31b-c20c-4ccd-b42e-1809fbf8debb"
      },
      "execution_count": 14,
      "outputs": [
        {
          "output_type": "stream",
          "name": "stdout",
          "text": [
            "\n",
            "Missing Values:\n",
            "id                     0\n",
            "gender                 0\n",
            "age                    0\n",
            "hypertension           0\n",
            "heart_disease          0\n",
            "ever_married           0\n",
            "work_type              0\n",
            "Residence_type         0\n",
            "avg_glucose_level      0\n",
            "bmi                  201\n",
            "smoking_status         0\n",
            "stroke                 0\n",
            "dtype: int64\n"
          ]
        }
      ]
    },
    {
      "cell_type": "code",
      "source": [
        "# Class distribution (target column)\n",
        "print(\"\\nStroke Distribution:\")\n",
        "print(df['stroke'].value_counts(normalize=True))  # percentage"
      ],
      "metadata": {
        "colab": {
          "base_uri": "https://localhost:8080/"
        },
        "id": "IeN7hfmCUsp2",
        "outputId": "1a9a7325-a601-4d37-a4f4-03db4cd1c0f8"
      },
      "execution_count": 15,
      "outputs": [
        {
          "output_type": "stream",
          "name": "stdout",
          "text": [
            "\n",
            "Stroke Distribution:\n",
            "stroke\n",
            "0    0.951272\n",
            "1    0.048728\n",
            "Name: proportion, dtype: float64\n"
          ]
        }
      ]
    },
    {
      "cell_type": "markdown",
      "source": [
        "**Data Visualization**"
      ],
      "metadata": {
        "id": "9FZsLrT7VnbP"
      }
    },
    {
      "cell_type": "markdown",
      "source": [
        "***Visualization 1: Stroke Count by Gender***"
      ],
      "metadata": {
        "id": "emMIYMr4VvsH"
      }
    },
    {
      "cell_type": "code",
      "source": [
        "# Stroke distribution by gender\n",
        "import seaborn as sns\n",
        "import matplotlib.pyplot as plt\n",
        "\n",
        "plt.figure(figsize=(6,4))\n",
        "sns.countplot(data=df, x='gender', hue='stroke', palette='Set2')\n",
        "plt.title('Stroke Count by Gender')\n",
        "plt.xlabel('Gender')\n",
        "plt.ylabel('Count')\n",
        "plt.legend(title='Stroke')\n",
        "plt.tight_layout()\n",
        "plt.show()\n"
      ],
      "metadata": {
        "colab": {
          "base_uri": "https://localhost:8080/",
          "height": 407
        },
        "id": "cXz67-MWVtev",
        "outputId": "0f22a355-add3-4026-807b-cc0796be2281"
      },
      "execution_count": 16,
      "outputs": [
        {
          "output_type": "display_data",
          "data": {
            "text/plain": [
              "<Figure size 600x400 with 1 Axes>"
            ],
            "image/png": "[encoded data removed]"
          },
          "metadata": {}
        }
      ]
    },
    {
      "cell_type": "markdown",
      "source": [
        "**Explanation:**\n",
        "This plot shows how stroke cases are distributed across gender. While the dataset includes more females than males, we can observe if either gender has noticeably more stroke cases proportionally. This helps assess gender as a risk factor."
      ],
      "metadata": {
        "id": "Y7d4kGi7V7GU"
      }
    },
    {
      "cell_type": "markdown",
      "source": [
        "**Visualization 2: Stroke Count by Age Group**"
      ],
      "metadata": {
        "id": "siKNR_6uWC-P"
      }
    },
    {
      "cell_type": "code",
      "source": [
        "# Stroke count by age buckets\n",
        "df['age_group'] = pd.cut(df['age'], bins=[0, 30, 45, 60, 75, 100], labels=['<30', '30–45', '45–60', '60–75', '75+'])\n",
        "\n",
        "plt.figure(figsize=(7,4))\n",
        "sns.countplot(data=df, x='age_group', hue='stroke', palette='Set3')\n",
        "plt.title('Stroke Count by Age Group')\n",
        "plt.xlabel('Age Group')\n",
        "plt.ylabel('Count')\n",
        "plt.legend(title='Stroke')\n",
        "plt.tight_layout()\n",
        "plt.show()\n"
      ],
      "metadata": {
        "colab": {
          "base_uri": "https://localhost:8080/",
          "height": 407
        },
        "id": "6uqB2RTqWFud",
        "outputId": "4e01f526-e363-48de-f998-8651843fd06a"
      },
      "execution_count": 17,
      "outputs": [
        {
          "output_type": "display_data",
          "data": {
            "text/plain": [
              "<Figure size 700x400 with 1 Axes>"
            ],
            "image/png": "[encoded data removed]"
          },
          "metadata": {}
        }
      ]
    },
    {
      "cell_type": "markdown",
      "source": [
        "**Explanation:**\n",
        "\n",
        "This helps identify which age groups are more prone to strokes. Age is a major factor in cardiovascular risk — if older groups show high stroke counts, it supports age-related assumptions in our model.\n",
        "\n"
      ],
      "metadata": {
        "id": "9K_dymRAWOvc"
      }
    },
    {
      "cell_type": "markdown",
      "source": [
        "**Visualization 3: Stroke vs Hypertension**"
      ],
      "metadata": {
        "id": "26awSG1mWtvb"
      }
    },
    {
      "cell_type": "code",
      "source": [
        "#  Stroke rate by hypertension status\n",
        "sns.countplot(data=df, x='hypertension', hue='stroke', palette='coolwarm')\n",
        "plt.title('Stroke Count by Hypertension')\n",
        "plt.xlabel('Hypertension (0 = No, 1 = Yes)')\n",
        "plt.ylabel('Count')\n",
        "plt.legend(title='Stroke')\n",
        "plt.tight_layout()\n",
        "plt.show()\n"
      ],
      "metadata": {
        "colab": {
          "base_uri": "https://localhost:8080/",
          "height": 487
        },
        "id": "Pg-QY-mFWQWN",
        "outputId": "078dcd33-52bd-4ef2-a340-5defe8d4f80c"
      },
      "execution_count": 18,
      "outputs": [
        {
          "output_type": "display_data",
          "data": {
            "text/plain": [
              "<Figure size 640x480 with 1 Axes>"
            ],
            "image/png": "[encoded data removed]"
          },
          "metadata": {}
        }
      ]
    },
    {
      "cell_type": "markdown",
      "source": [
        "**Explanation:**\n",
        "\n",
        "Hypertension (high blood pressure) is a known risk factor for strokes. This plot helps us see if people with hypertension are more likely to have a stroke — valuable insight for feature importance."
      ],
      "metadata": {
        "id": "jnOAj_LIWz3D"
      }
    },
    {
      "cell_type": "markdown",
      "source": [
        "**Visualization 4: Stroke vs Average Glucose Level**"
      ],
      "metadata": {
        "id": "FLfVaBRHW7JQ"
      }
    },
    {
      "cell_type": "code",
      "source": [
        "# Average glucose levels by stroke status\n",
        "plt.figure(figsize=(6,4))\n",
        "sns.boxplot(data=df, x='stroke', y='avg_glucose_level', palette='viridis')\n",
        "plt.title('Average Glucose Level by Stroke Status')\n",
        "plt.xlabel('Stroke')\n",
        "plt.ylabel('Avg Glucose Level')\n",
        "plt.tight_layout()\n",
        "plt.show()\n"
      ],
      "metadata": {
        "colab": {
          "base_uri": "https://localhost:8080/",
          "height": 514
        },
        "id": "-qG4sRToW3o9",
        "outputId": "0c6ef308-234c-4ff1-f185-a79bfa4a8961"
      },
      "execution_count": 19,
      "outputs": [
        {
          "output_type": "stream",
          "name": "stderr",
          "text": [
            "/tmp/ipython-input-4182647397.py:3: FutureWarning: \n",
            "\n",
            "Passing `palette` without assigning `hue` is deprecated and will be removed in v0.14.0. Assign the `x` variable to `hue` and set `legend=False` for the same effect.\n",
            "\n",
            "  sns.boxplot(data=df, x='stroke', y='avg_glucose_level', palette='viridis')\n"
          ]
        },
        {
          "output_type": "display_data",
          "data": {
            "text/plain": [
              "<Figure size 600x400 with 1 Axes>"
            ],
            "image/png": "[encoded data removed]"
          },
          "metadata": {}
        }
      ]
    },
    {
      "cell_type": "markdown",
      "source": [
        "**Explanation:**\n",
        "\n",
        "High glucose levels (e.g., in diabetics) are linked to vascular problems. This boxplot helps check if stroke patients tend to have higher average glucose — a potential predictor in the model."
      ],
      "metadata": {
        "id": "7LvxC_BGXDlT"
      }
    },
    {
      "cell_type": "markdown",
      "source": [
        "**Visualization 5: Stroke by Smoking Status**"
      ],
      "metadata": {
        "id": "KbqvzRYcXNY9"
      }
    },
    {
      "cell_type": "code",
      "source": [
        "# Stroke count by smoking status\n",
        "plt.figure(figsize=(7,4))\n",
        "sns.countplot(data=df, x='smoking_status', hue='stroke', palette='magma')\n",
        "plt.title('Stroke Count by Smoking Status')\n",
        "plt.xlabel('Smoking Status')\n",
        "plt.ylabel('Count')\n",
        "plt.legend(title='Stroke')\n",
        "plt.xticks(rotation=15)\n",
        "plt.tight_layout()\n",
        "plt.show()\n"
      ],
      "metadata": {
        "colab": {
          "base_uri": "https://localhost:8080/",
          "height": 407
        },
        "id": "O2hiUvzIXG-n",
        "outputId": "91c48816-c6f3-46dc-abdb-5b534f41518a"
      },
      "execution_count": 20,
      "outputs": [
        {
          "output_type": "display_data",
          "data": {
            "text/plain": [
              "<Figure size 700x400 with 1 Axes>"
            ],
            "image/png": "[encoded data removed]"
          },
          "metadata": {}
        }
      ]
    },
    {
      "cell_type": "markdown",
      "source": [
        "**Explanation:**\n",
        "\n",
        "Smoking is a major health risk. This plot checks how stroke cases are distributed among smokers, former smokers, and those who never smoked. If a pattern exists, it validates including this feature in our model."
      ],
      "metadata": {
        "id": "8vCYuV6MXTnn"
      }
    },
    {
      "cell_type": "markdown",
      "source": [
        "**Bonus Visualization 6: Correlation Heatmap (Numeric Features)**"
      ],
      "metadata": {
        "id": "UeDA27zaXZ-K"
      }
    },
    {
      "cell_type": "code",
      "source": [
        "# Heatmap of numerical feature correlations\n",
        "import numpy as np\n",
        "\n",
        "plt.figure(figsize=(8,6))\n",
        "sns.heatmap(df[['age', 'avg_glucose_level', 'bmi', 'stroke']].corr(), annot=True, cmap='coolwarm', fmt=\".2f\")\n",
        "plt.title('Correlation Heatmap')\n",
        "plt.tight_layout()\n",
        "plt.show()\n"
      ],
      "metadata": {
        "colab": {
          "base_uri": "https://localhost:8080/",
          "height": 607
        },
        "id": "9Je3Gz77XW_9",
        "outputId": "7a67eccb-df22-4ca3-ab45-d8e65c311a7f"
      },
      "execution_count": 21,
      "outputs": [
        {
          "output_type": "display_data",
          "data": {
            "text/plain": [
              "<Figure size 800x600 with 2 Axes>"
            ],
            "image/png": "[encoded data removed]"
          },
          "metadata": {}
        }
      ]
    },
    {
      "cell_type": "markdown",
      "source": [
        "**Explanation:**\n",
        "\n",
        "This gives a quick overview of how numeric variables relate to the target (stroke). While deep learning models don’t rely on correlation like linear models, this helps shape our understanding and detect multicollinearity or weak signals."
      ],
      "metadata": {
        "id": "7oyDWdTzXfGP"
      }
    },
    {
      "cell_type": "markdown",
      "source": [
        "**Step: Define Target and Initial Insights**\n",
        "\n",
        "* Before jumping into preprocessing, we need to clearly state:"
      ],
      "metadata": {
        "id": "Js6mHupkX2Jr"
      }
    },
    {
      "cell_type": "markdown",
      "source": [
        "***What are we predicting?***\n",
        "\n",
        "We're predicting the likelihood of stroke (1) vs no stroke (0) based on patient health indicators and demographics. This is a binary classification problem."
      ],
      "metadata": {
        "id": "mCBZ9NCZX5yQ"
      }
    },
    {
      "cell_type": "markdown",
      "source": [
        "**Two High-Level Assumptions or Insights**"
      ],
      "metadata": {
        "id": "RFDc0Df6YAyg"
      }
    },
    {
      "cell_type": "markdown",
      "source": [
        "1. **Age & Glucose as Key Risk Factors**:\n",
        "   Based on the visualizations, stroke patients tend to be older and have higher average glucose levels. These are medically validated stroke predictors and should be treated as important features.\n",
        "\n",
        "2. **Imbalanced Dataset Risks Misleading Accuracy**:\n",
        "   Since only ~4.8% of records are stroke-positive, relying on accuracy alone could lead to misleading results. We'll need to focus on **precision, recall, and F1-score** when evaluating models, and may need to apply techniques like **SMOTE or class weighting**.\n"
      ],
      "metadata": {
        "id": "9o4a3WYXYEAY"
      }
    },
    {
      "cell_type": "markdown",
      "source": [
        "**Step: Handle Missing Values in bmi**\n",
        "We saw earlier that bmi has 201 missing values (~4% of the dataset).\n",
        "Since that's not a huge percentage, we’ll use a simple, safe strategy: fill missing values with the median. *italicised text*\n",
        "\n",
        "**Why Median?**\n",
        "\n",
        "* It’s robust to outliers\n",
        "\n",
        "* eeps the distribution shape more realistic than mean\n",
        "\n",
        "* Easy and effective for models, especially when values are numerical"
      ],
      "metadata": {
        "id": "KJ48h26pYV3b"
      }
    },
    {
      "cell_type": "code",
      "source": [
        "# Fill missing BMI values\n",
        "median_bmi = df['bmi'].median()\n",
        "df['bmi'].fillna(median_bmi, inplace=True)\n",
        "\n",
        "# Verify that no missing values remain\n",
        "print(df.isnull().sum())\n"
      ],
      "metadata": {
        "colab": {
          "base_uri": "https://localhost:8080/"
        },
        "id": "ldUa9TEYXhx9",
        "outputId": "1d2366b8-ad4f-4dba-ee51-a6f97b69a612"
      },
      "execution_count": 22,
      "outputs": [
        {
          "output_type": "stream",
          "name": "stdout",
          "text": [
            "id                   0\n",
            "gender               0\n",
            "age                  0\n",
            "hypertension         0\n",
            "heart_disease        0\n",
            "ever_married         0\n",
            "work_type            0\n",
            "Residence_type       0\n",
            "avg_glucose_level    0\n",
            "bmi                  0\n",
            "smoking_status       0\n",
            "stroke               0\n",
            "age_group            0\n",
            "dtype: int64\n"
          ]
        },
        {
          "output_type": "stream",
          "name": "stderr",
          "text": [
            "/tmp/ipython-input-1644977598.py:3: FutureWarning: A value is trying to be set on a copy of a DataFrame or Series through chained assignment using an inplace method.\n",
            "The behavior will change in pandas 3.0. This inplace method will never work because the intermediate object on which we are setting values always behaves as a copy.\n",
            "\n",
            "For example, when doing 'df[col].method(value, inplace=True)', try using 'df.method({col: value}, inplace=True)' or df[col] = df[col].method(value) instead, to perform the operation inplace on the original object.\n",
            "\n",
            "\n",
            "  df['bmi'].fillna(median_bmi, inplace=True)\n"
          ]
        }
      ]
    },
    {
      "cell_type": "markdown",
      "source": [
        "**Explanation:**\n",
        "\n",
        "We're filling all missing BMI values with the median of existing BMI data. After that, we double-check that the dataset is now clean (i.e., no more nulls)."
      ],
      "metadata": {
        "id": "XBjtvvk3Yskz"
      }
    },
    {
      "cell_type": "markdown",
      "source": [
        "**Step: Encode Categorical Features**\n",
        "\n",
        "Neural networks need numerical input, so we must convert all categorical features into numeric form."
      ],
      "metadata": {
        "id": "WJVdii7UY6Ra"
      }
    },
    {
      "cell_type": "markdown",
      "source": [
        "**Categorical Columns to Encode:**\n",
        "\n",
        "* gender\n",
        "\n",
        "* ever_married\n",
        "\n",
        "* work_type\n",
        "\n",
        "* Residence_type\n",
        "\n",
        "* smoking_status"
      ],
      "metadata": {
        "id": "ucVcKspWY9M0"
      }
    },
    {
      "cell_type": "code",
      "source": [
        "# Encode categorical variables\n",
        "\n",
        "from sklearn.preprocessing import LabelEncoder\n",
        "\n",
        "# Binary label encoding\n",
        "binary_cols = ['gender', 'ever_married', 'Residence_type']\n",
        "le = LabelEncoder()\n",
        "for col in binary_cols:\n",
        "    df[col] = le.fit_transform(df[col])\n",
        "\n",
        "# One-hot encoding for multi-category columns\n",
        "df = pd.get_dummies(df, columns=['work_type', 'smoking_status'], drop_first=True)\n",
        "\n",
        "# Drop the 'id' column — not useful for modeling\n",
        "df.drop(columns=['id'], inplace=True)\n",
        "\n",
        "# Preview updated dataframe\n",
        "df.head()\n"
      ],
      "metadata": {
        "colab": {
          "base_uri": "https://localhost:8080/",
          "height": 243
        },
        "id": "DbDCabN1YuYu",
        "outputId": "1aab6d8c-ce10-40b0-ab63-2060c021b867"
      },
      "execution_count": 23,
      "outputs": [
        {
          "output_type": "execute_result",
          "data": {
            "text/plain": [
              "   gender   age  hypertension  heart_disease  ever_married  Residence_type  \\\n",
              "0       1  67.0             0              1             1               1   \n",
              "1       0  61.0             0              0             1               0   \n",
              "2       1  80.0             0              1             1               0   \n",
              "3       0  49.0             0              0             1               1   \n",
              "4       0  79.0             1              0             1               0   \n",
              "\n",
              "   avg_glucose_level   bmi  stroke age_group  work_type_Never_worked  \\\n",
              "0             228.69  36.6       1     60–75                   False   \n",
              "1             202.21  28.1       1     60–75                   False   \n",
              "2             105.92  32.5       1       75+                   False   \n",
              "3             171.23  34.4       1     45–60                   False   \n",
              "4             174.12  24.0       1       75+                   False   \n",
              "\n",
              "   work_type_Private  work_type_Self-employed  work_type_children  \\\n",
              "0               True                    False               False   \n",
              "1              False                     True               False   \n",
              "2               True                    False               False   \n",
              "3               True                    False               False   \n",
              "4              False                     True               False   \n",
              "\n",
              "   smoking_status_formerly smoked  smoking_status_never smoked  \\\n",
              "0                            True                        False   \n",
              "1                           False                         True   \n",
              "2                           False                         True   \n",
              "3                           False                        False   \n",
              "4                           False                         True   \n",
              "\n",
              "   smoking_status_smokes  \n",
              "0                  False  \n",
              "1                  False  \n",
              "2                  False  \n",
              "3                   True  \n",
              "4                  False  "
            ],
            "text/html": [
              "\n",
              "  <div id=\"df-d4553bc0-e664-45cf-b9c7-f9fbb6f7c2a0\" class=\"colab-df-container\">\n",
              "    <div>\n",
              "<style scoped>\n",
              "    .dataframe tbody tr th:only-of-type {\n",
              "        vertical-align: middle;\n",
              "    }\n",
              "\n",
              "    .dataframe tbody tr th {\n",
              "        vertical-align: top;\n",
              "    }\n",
              "\n",
              "    .dataframe thead th {\n",
              "        text-align: right;\n",
              "    }\n",
              "</style>\n",
              "<table border=\"1\" class=\"dataframe\">\n",
              "  <thead>\n",
              "    <tr style=\"text-align: right;\">\n",
              "      <th></th>\n",
              "      <th>gender</th>\n",
              "      <th>age</th>\n",
              "      <th>hypertension</th>\n",
              "      <th>heart_disease</th>\n",
              "      <th>ever_married</th>\n",
              "      <th>Residence_type</th>\n",
              "      <th>avg_glucose_level</th>\n",
              "      <th>bmi</th>\n",
              "      <th>stroke</th>\n",
              "      <th>age_group</th>\n",
              "      <th>work_type_Never_worked</th>\n",
              "      <th>work_type_Private</th>\n",
              "      <th>work_type_Self-employed</th>\n",
              "      <th>work_type_children</th>\n",
              "      <th>smoking_status_formerly smoked</th>\n",
              "      <th>smoking_status_never smoked</th>\n",
              "      <th>smoking_status_smokes</th>\n",
              "    </tr>\n",
              "  </thead>\n",
              "  <tbody>\n",
              "    <tr>\n",
              "      <th>0</th>\n",
              "      <td>1</td>\n",
              "      <td>67.0</td>\n",
              "      <td>0</td>\n",
              "      <td>1</td>\n",
              "      <td>1</td>\n",
              "      <td>1</td>\n",
              "      <td>228.69</td>\n",
              "      <td>36.6</td>\n",
              "      <td>1</td>\n",
              "      <td>60–75</td>\n",
              "      <td>False</td>\n",
              "      <td>True</td>\n",
              "      <td>False</td>\n",
              "      <td>False</td>\n",
              "      <td>True</td>\n",
              "      <td>False</td>\n",
              "      <td>False</td>\n",
              "    </tr>\n",
              "    <tr>\n",
              "      <th>1</th>\n",
              "      <td>0</td>\n",
              "      <td>61.0</td>\n",
              "      <td>0</td>\n",
              "      <td>0</td>\n",
              "      <td>1</td>\n",
              "      <td>0</td>\n",
              "      <td>202.21</td>\n",
              "      <td>28.1</td>\n",
              "      <td>1</td>\n",
              "      <td>60–75</td>\n",
              "      <td>False</td>\n",
              "      <td>False</td>\n",
              "      <td>True</td>\n",
              "      <td>False</td>\n",
              "      <td>False</td>\n",
              "      <td>True</td>\n",
              "      <td>False</td>\n",
              "    </tr>\n",
              "    <tr>\n",
              "      <th>2</th>\n",
              "      <td>1</td>\n",
              "      <td>80.0</td>\n",
              "      <td>0</td>\n",
              "      <td>1</td>\n",
              "      <td>1</td>\n",
              "      <td>0</td>\n",
              "      <td>105.92</td>\n",
              "      <td>32.5</td>\n",
              "      <td>1</td>\n",
              "      <td>75+</td>\n",
              "      <td>False</td>\n",
              "      <td>True</td>\n",
              "      <td>False</td>\n",
              "      <td>False</td>\n",
              "      <td>False</td>\n",
              "      <td>True</td>\n",
              "      <td>False</td>\n",
              "    </tr>\n",
              "    <tr>\n",
              "      <th>3</th>\n",
              "      <td>0</td>\n",
              "      <td>49.0</td>\n",
              "      <td>0</td>\n",
              "      <td>0</td>\n",
              "      <td>1</td>\n",
              "      <td>1</td>\n",
              "      <td>171.23</td>\n",
              "      <td>34.4</td>\n",
              "      <td>1</td>\n",
              "      <td>45–60</td>\n",
              "      <td>False</td>\n",
              "      <td>True</td>\n",
              "      <td>False</td>\n",
              "      <td>False</td>\n",
              "      <td>False</td>\n",
              "      <td>False</td>\n",
              "      <td>True</td>\n",
              "    </tr>\n",
              "    <tr>\n",
              "      <th>4</th>\n",
              "      <td>0</td>\n",
              "      <td>79.0</td>\n",
              "      <td>1</td>\n",
              "      <td>0</td>\n",
              "      <td>1</td>\n",
              "      <td>0</td>\n",
              "      <td>174.12</td>\n",
              "      <td>24.0</td>\n",
              "      <td>1</td>\n",
              "      <td>75+</td>\n",
              "      <td>False</td>\n",
              "      <td>False</td>\n",
              "      <td>True</td>\n",
              "      <td>False</td>\n",
              "      <td>False</td>\n",
              "      <td>True</td>\n",
              "      <td>False</td>\n",
              "    </tr>\n",
              "  </tbody>\n",
              "</table>\n",
              "</div>\n",
              "    <div class=\"colab-df-buttons\">\n",
              "\n",
              "  <div class=\"colab-df-container\">\n",
              "    <button class=\"colab-df-convert\" onclick=\"convertToInteractive('df-d4553bc0-e664-45cf-b9c7-f9fbb6f7c2a0')\"\n",
              "            title=\"Convert this dataframe to an interactive table.\"\n",
              "            style=\"display:none;\">\n",
              "\n",
              "  <svg xmlns=\"http://www.w3.org/2000/svg\" height=\"24px\" viewBox=\"0 -960 960 960\">\n",
              "    <path d=\"M120-120v-720h720v720H120Zm60-500h600v-160H180v160Zm220 220h160v-160H400v160Zm0 220h160v-160H400v160ZM180-400h160v-160H180v160Zm440 0h160v-160H620v160ZM180-180h160v-160H180v160Zm440 0h160v-160H620v160Z\"/>\n",
              "  </svg>\n",
              "    </button>\n",
              "\n",
              "  <style>\n",
              "    .colab-df-container {\n",
              "      display:flex;\n",
              "      gap: 12px;\n",
              "    }\n",
              "\n",
              "    .colab-df-convert {\n",
              "      background-color: #E8F0FE;\n",
              "      border: none;\n",
              "      border-radius: 50%;\n",
              "      cursor: pointer;\n",
              "      display: none;\n",
              "      fill: #1967D2;\n",
              "      height: 32px;\n",
              "      padding: 0 0 0 0;\n",
              "      width: 32px;\n",
              "    }\n",
              "\n",
              "    .colab-df-convert:hover {\n",
              "      background-color: #E2EBFA;\n",
              "      box-shadow: 0px 1px 2px rgba(60, 64, 67, 0.3), 0px 1px 3px 1px rgba(60, 64, 67, 0.15);\n",
              "      fill: #174EA6;\n",
              "    }\n",
              "\n",
              "    .colab-df-buttons div {\n",
              "      margin-bottom: 4px;\n",
              "    }\n",
              "\n",
              "    [theme=dark] .colab-df-convert {\n",
              "      background-color: #3B4455;\n",
              "      fill: #D2E3FC;\n",
              "    }\n",
              "\n",
              "    [theme=dark] .colab-df-convert:hover {\n",
              "      background-color: #434B5C;\n",
              "      box-shadow: 0px 1px 3px 1px rgba(0, 0, 0, 0.15);\n",
              "      filter: drop-shadow(0px 1px 2px rgba(0, 0, 0, 0.3));\n",
              "      fill: #FFFFFF;\n",
              "    }\n",
              "  </style>\n",
              "\n",
              "    <script>\n",
              "      const buttonEl =\n",
              "        document.querySelector('#df-d4553bc0-e664-45cf-b9c7-f9fbb6f7c2a0 button.colab-df-convert');\n",
              "      buttonEl.style.display =\n",
              "        google.colab.kernel.accessAllowed ? 'block' : 'none';\n",
              "\n",
              "      async function convertToInteractive(key) {\n",
              "        const element = document.querySelector('#df-d4553bc0-e664-45cf-b9c7-f9fbb6f7c2a0');\n",
              "        const dataTable =\n",
              "          await google.colab.kernel.invokeFunction('convertToInteractive',\n",
              "                                                    [key], {});\n",
              "        if (!dataTable) return;\n",
              "\n",
              "        const docLinkHtml = 'Like what you see? Visit the ' +\n",
              "          '<a target=\"_blank\" href=https://colab.research.google.com/notebooks/data_table.ipynb>data table notebook</a>'\n",
              "          + ' to learn more about interactive tables.';\n",
              "        element.innerHTML = '';\n",
              "        dataTable['output_type'] = 'display_data';\n",
              "        await google.colab.output.renderOutput(dataTable, element);\n",
              "        const docLink = document.createElement('div');\n",
              "        docLink.innerHTML = docLinkHtml;\n",
              "        element.appendChild(docLink);\n",
              "      }\n",
              "    </script>\n",
              "  </div>\n",
              "\n",
              "\n",
              "    <div id=\"df-28b50015-619d-4476-a453-21433dd53cdd\">\n",
              "      <button class=\"colab-df-quickchart\" onclick=\"quickchart('df-28b50015-619d-4476-a453-21433dd53cdd')\"\n",
              "                title=\"Suggest charts\"\n",
              "                style=\"display:none;\">\n",
              "\n",
              "<svg xmlns=\"http://www.w3.org/2000/svg\" height=\"24px\"viewBox=\"0 0 24 24\"\n",
              "     width=\"24px\">\n",
              "    <g>\n",
              "        <path d=\"M19 3H5c-1.1 0-2 .9-2 2v14c0 1.1.9 2 2 2h14c1.1 0 2-.9 2-2V5c0-1.1-.9-2-2-2zM9 17H7v-7h2v7zm4 0h-2V7h2v10zm4 0h-2v-4h2v4z\"/>\n",
              "    </g>\n",
              "</svg>\n",
              "      </button>\n",
              "\n",
              "<style>\n",
              "  .colab-df-quickchart {\n",
              "      --bg-color: #E8F0FE;\n",
              "      --fill-color: #1967D2;\n",
              "      --hover-bg-color: #E2EBFA;\n",
              "      --hover-fill-color: #174EA6;\n",
              "      --disabled-fill-color: #AAA;\n",
              "      --disabled-bg-color: #DDD;\n",
              "  }\n",
              "\n",
              "  [theme=dark] .colab-df-quickchart {\n",
              "      --bg-color: #3B4455;\n",
              "      --fill-color: #D2E3FC;\n",
              "      --hover-bg-color: #434B5C;\n",
              "      --hover-fill-color: #FFFFFF;\n",
              "      --disabled-bg-color: #3B4455;\n",
              "      --disabled-fill-color: #666;\n",
              "  }\n",
              "\n",
              "  .colab-df-quickchart {\n",
              "    background-color: var(--bg-color);\n",
              "    border: none;\n",
              "    border-radius: 50%;\n",
              "    cursor: pointer;\n",
              "    display: none;\n",
              "    fill: var(--fill-color);\n",
              "    height: 32px;\n",
              "    padding: 0;\n",
              "    width: 32px;\n",
              "  }\n",
              "\n",
              "  .colab-df-quickchart:hover {\n",
              "    background-color: var(--hover-bg-color);\n",
              "    box-shadow: 0 1px 2px rgba(60, 64, 67, 0.3), 0 1px 3px 1px rgba(60, 64, 67, 0.15);\n",
              "    fill: var(--button-hover-fill-color);\n",
              "  }\n",
              "\n",
              "  .colab-df-quickchart-complete:disabled,\n",
              "  .colab-df-quickchart-complete:disabled:hover {\n",
              "    background-color: var(--disabled-bg-color);\n",
              "    fill: var(--disabled-fill-color);\n",
              "    box-shadow: none;\n",
              "  }\n",
              "\n",
              "  .colab-df-spinner {\n",
              "    border: 2px solid var(--fill-color);\n",
              "    border-color: transparent;\n",
              "    border-bottom-color: var(--fill-color);\n",
              "    animation:\n",
              "      spin 1s steps(1) infinite;\n",
              "  }\n",
              "\n",
              "  @keyframes spin {\n",
              "    0% {\n",
              "      border-color: transparent;\n",
              "      border-bottom-color: var(--fill-color);\n",
              "      border-left-color: var(--fill-color);\n",
              "    }\n",
              "    20% {\n",
              "      border-color: transparent;\n",
              "      border-left-color: var(--fill-color);\n",
              "      border-top-color: var(--fill-color);\n",
              "    }\n",
              "    30% {\n",
              "      border-color: transparent;\n",
              "      border-left-color: var(--fill-color);\n",
              "      border-top-color: var(--fill-color);\n",
              "      border-right-color: var(--fill-color);\n",
              "    }\n",
              "    40% {\n",
              "      border-color: transparent;\n",
              "      border-right-color: var(--fill-color);\n",
              "      border-top-color: var(--fill-color);\n",
              "    }\n",
              "    60% {\n",
              "      border-color: transparent;\n",
              "      border-right-color: var(--fill-color);\n",
              "    }\n",
              "    80% {\n",
              "      border-color: transparent;\n",
              "      border-right-color: var(--fill-color);\n",
              "      border-bottom-color: var(--fill-color);\n",
              "    }\n",
              "    90% {\n",
              "      border-color: transparent;\n",
              "      border-bottom-color: var(--fill-color);\n",
              "    }\n",
              "  }\n",
              "</style>\n",
              "\n",
              "      <script>\n",
              "        async function quickchart(key) {\n",
              "          const quickchartButtonEl =\n",
              "            document.querySelector('#' + key + ' button');\n",
              "          quickchartButtonEl.disabled = true;  // To prevent multiple clicks.\n",
              "          quickchartButtonEl.classList.add('colab-df-spinner');\n",
              "          try {\n",
              "            const charts = await google.colab.kernel.invokeFunction(\n",
              "                'suggestCharts', [key], {});\n",
              "          } catch (error) {\n",
              "            console.error('Error during call to suggestCharts:', error);\n",
              "          }\n",
              "          quickchartButtonEl.classList.remove('colab-df-spinner');\n",
              "          quickchartButtonEl.classList.add('colab-df-quickchart-complete');\n",
              "        }\n",
              "        (() => {\n",
              "          let quickchartButtonEl =\n",
              "            document.querySelector('#df-28b50015-619d-4476-a453-21433dd53cdd button');\n",
              "          quickchartButtonEl.style.display =\n",
              "            google.colab.kernel.accessAllowed ? 'block' : 'none';\n",
              "        })();\n",
              "      </script>\n",
              "    </div>\n",
              "\n",
              "    </div>\n",
              "  </div>\n"
            ],
            "application/vnd.google.colaboratory.intrinsic+json": {
              "type": "dataframe",
              "variable_name": "df",
              "summary": "{\n  \"name\": \"df\",\n  \"rows\": 5110,\n  \"fields\": [\n    {\n      \"column\": \"gender\",\n      \"properties\": {\n        \"dtype\": \"number\",\n        \"std\": 0,\n        \"min\": 0,\n        \"max\": 2,\n        \"num_unique_values\": 3,\n        \"samples\": [\n          1,\n          0,\n          2\n        ],\n        \"semantic_type\": \"\",\n        \"description\": \"\"\n      }\n    },\n    {\n      \"column\": \"age\",\n      \"properties\": {\n        \"dtype\": \"number\",\n        \"std\": 22.61264672311352,\n        \"min\": 0.08,\n        \"max\": 82.0,\n        \"num_unique_values\": 104,\n        \"samples\": [\n          45.0,\n          24.0,\n          33.0\n        ],\n        \"semantic_type\": \"\",\n        \"description\": \"\"\n      }\n    },\n    {\n      \"column\": \"hypertension\",\n      \"properties\": {\n        \"dtype\": \"number\",\n        \"std\": 0,\n        \"min\": 0,\n        \"max\": 1,\n        \"num_unique_values\": 2,\n        \"samples\": [\n          1,\n          0\n        ],\n        \"semantic_type\": \"\",\n        \"description\": \"\"\n      }\n    },\n    {\n      \"column\": \"heart_disease\",\n      \"properties\": {\n        \"dtype\": \"number\",\n        \"std\": 0,\n        \"min\": 0,\n        \"max\": 1,\n        \"num_unique_values\": 2,\n        \"samples\": [\n          0,\n          1\n        ],\n        \"semantic_type\": \"\",\n        \"description\": \"\"\n      }\n    },\n    {\n      \"column\": \"ever_married\",\n      \"properties\": {\n        \"dtype\": \"number\",\n        \"std\": 0,\n        \"min\": 0,\n        \"max\": 1,\n        \"num_unique_values\": 2,\n        \"samples\": [\n          0,\n          1\n        ],\n        \"semantic_type\": \"\",\n        \"description\": \"\"\n      }\n    },\n    {\n      \"column\": \"Residence_type\",\n      \"properties\": {\n        \"dtype\": \"number\",\n        \"std\": 0,\n        \"min\": 0,\n        \"max\": 1,\n        \"num_unique_values\": 2,\n        \"samples\": [\n          0,\n          1\n        ],\n        \"semantic_type\": \"\",\n        \"description\": \"\"\n      }\n    },\n    {\n      \"column\": \"avg_glucose_level\",\n      \"properties\": {\n        \"dtype\": \"number\",\n        \"std\": 45.28356015058203,\n        \"min\": 55.12,\n        \"max\": 271.74,\n        \"num_unique_values\": 3979,\n        \"samples\": [\n          178.29,\n          156.69\n        ],\n        \"semantic_type\": \"\",\n        \"description\": \"\"\n      }\n    },\n    {\n      \"column\": \"bmi\",\n      \"properties\": {\n        \"dtype\": \"number\",\n        \"std\": 7.699562318787533,\n        \"min\": 10.3,\n        \"max\": 97.6,\n        \"num_unique_values\": 418,\n        \"samples\": [\n          49.5,\n          18.5\n        ],\n        \"semantic_type\": \"\",\n        \"description\": \"\"\n      }\n    },\n    {\n      \"column\": \"stroke\",\n      \"properties\": {\n        \"dtype\": \"number\",\n        \"std\": 0,\n        \"min\": 0,\n        \"max\": 1,\n        \"num_unique_values\": 2,\n        \"samples\": [\n          0,\n          1\n        ],\n        \"semantic_type\": \"\",\n        \"description\": \"\"\n      }\n    },\n    {\n      \"column\": \"age_group\",\n      \"properties\": {\n        \"dtype\": \"category\",\n        \"num_unique_values\": 5,\n        \"samples\": [\n          \"75+\",\n          \"<30\"\n        ],\n        \"semantic_type\": \"\",\n        \"description\": \"\"\n      }\n    },\n    {\n      \"column\": \"work_type_Never_worked\",\n      \"properties\": {\n        \"dtype\": \"boolean\",\n        \"num_unique_values\": 2,\n        \"samples\": [\n          true,\n          false\n        ],\n        \"semantic_type\": \"\",\n        \"description\": \"\"\n      }\n    },\n    {\n      \"column\": \"work_type_Private\",\n      \"properties\": {\n        \"dtype\": \"boolean\",\n        \"num_unique_values\": 2,\n        \"samples\": [\n          false,\n          true\n        ],\n        \"semantic_type\": \"\",\n        \"description\": \"\"\n      }\n    },\n    {\n      \"column\": \"work_type_Self-employed\",\n      \"properties\": {\n        \"dtype\": \"boolean\",\n        \"num_unique_values\": 2,\n        \"samples\": [\n          true,\n          false\n        ],\n        \"semantic_type\": \"\",\n        \"description\": \"\"\n      }\n    },\n    {\n      \"column\": \"work_type_children\",\n      \"properties\": {\n        \"dtype\": \"boolean\",\n        \"num_unique_values\": 2,\n        \"samples\": [\n          true,\n          false\n        ],\n        \"semantic_type\": \"\",\n        \"description\": \"\"\n      }\n    },\n    {\n      \"column\": \"smoking_status_formerly smoked\",\n      \"properties\": {\n        \"dtype\": \"boolean\",\n        \"num_unique_values\": 2,\n        \"samples\": [\n          false,\n          true\n        ],\n        \"semantic_type\": \"\",\n        \"description\": \"\"\n      }\n    },\n    {\n      \"column\": \"smoking_status_never smoked\",\n      \"properties\": {\n        \"dtype\": \"boolean\",\n        \"num_unique_values\": 2,\n        \"samples\": [\n          true,\n          false\n        ],\n        \"semantic_type\": \"\",\n        \"description\": \"\"\n      }\n    },\n    {\n      \"column\": \"smoking_status_smokes\",\n      \"properties\": {\n        \"dtype\": \"boolean\",\n        \"num_unique_values\": 2,\n        \"samples\": [\n          true,\n          false\n        ],\n        \"semantic_type\": \"\",\n        \"description\": \"\"\n      }\n    }\n  ]\n}"
            }
          },
          "metadata": {},
          "execution_count": 23
        }
      ]
    },
    {
      "cell_type": "markdown",
      "source": [
        "**Explanation:**\n",
        "\n",
        "We label-encode simple binary columns (like gender: male/female → 0/1) and one-hot encode multi-category features (e.g. work_type has multiple job types). We also drop id as it's not a predictive feature."
      ],
      "metadata": {
        "id": "ic6cHE29ZJl5"
      }
    },
    {
      "cell_type": "code",
      "source": [
        "# Drop age_group since it was only used for plots\n",
        "df.drop(columns=['age_group'], inplace=True)\n"
      ],
      "metadata": {
        "id": "XX7zn-eMa3JB"
      },
      "execution_count": 28,
      "outputs": []
    },
    {
      "cell_type": "code",
      "source": [
        "X = df.drop('stroke', axis=1).astype('float32')\n",
        "y = df['stroke']\n"
      ],
      "metadata": {
        "id": "6iPvbI6Ra6zL"
      },
      "execution_count": 29,
      "outputs": []
    },
    {
      "cell_type": "markdown",
      "source": [
        "**Step: Feature Scaling & Train-Test Split**\n",
        "\n",
        "***Why Scaling?***\n",
        "\n",
        "Neural networks are sensitive to feature scales.\n",
        "We'll use StandardScaler to standardise numeric features like:\n",
        "\n",
        "* age\n",
        "\n",
        "* avg_glucose_level\n",
        "\n",
        "* bmi"
      ],
      "metadata": {
        "id": "3TpY_GZpZTLr"
      }
    },
    {
      "cell_type": "markdown",
      "source": [
        "**Train-Test Split**\n",
        "\n",
        "We’ll split the dataset into:\n",
        "\n",
        "* 80% training\n",
        "\n",
        "* 20% testing\n",
        "\n",
        "We'll also separate features (X) and target (y).\n",
        "\n"
      ],
      "metadata": {
        "id": "3gkI1ZO9Zd3h"
      }
    },
    {
      "cell_type": "code",
      "source": [
        "# Feature Scaling and Splitting\n",
        "from sklearn.model_selection import train_test_split\n",
        "from sklearn.preprocessing import StandardScaler\n",
        "\n",
        "# Separate features and target\n",
        "X = df.drop('stroke', axis=1)\n",
        "y = df['stroke']\n",
        "\n",
        "# Scale only numeric features\n",
        "num_cols = ['age', 'avg_glucose_level', 'bmi']\n",
        "scaler = StandardScaler()\n",
        "X[num_cols] = scaler.fit_transform(X[num_cols])\n",
        "\n",
        "# Train-test split (80/20)\n",
        "X_train, X_test, y_train, y_test = train_test_split(\n",
        "    X, y, test_size=0.2, random_state=42, stratify=y\n",
        ")\n",
        "\n",
        "# Confirm shapes\n",
        "print(\"Training samples:\", X_train.shape)\n",
        "print(\"Test samples:\", X_test.shape)\n"
      ],
      "metadata": {
        "colab": {
          "base_uri": "https://localhost:8080/"
        },
        "id": "kTgccJDjZOY-",
        "outputId": "159e43ed-8dc7-4136-de67-054e11d2670d"
      },
      "execution_count": 30,
      "outputs": [
        {
          "output_type": "stream",
          "name": "stdout",
          "text": [
            "Training samples: (4088, 15)\n",
            "Test samples: (1022, 15)\n"
          ]
        }
      ]
    },
    {
      "cell_type": "markdown",
      "source": [
        "**Explanation:**\n",
        "\n",
        "We scale numeric columns to help the neural network converge better.\n",
        "We also use stratify=y to make sure the class balance (stroke vs no stroke) is preserved in both training and test sets."
      ],
      "metadata": {
        "id": "Hf9uyfFGZleJ"
      }
    },
    {
      "cell_type": "markdown",
      "source": [
        "**Step: Build & Train Baseline Neural Network**\n",
        "\n",
        "***Baseline Architecture***\n",
        "\n",
        "* Input Layer: matching the number of features\n",
        "\n",
        "* Hidden Layers: 2 layers with ReLU\n",
        "\n",
        "* Output Layer: 1 neuron with sigmoid (for binary classification)"
      ],
      "metadata": {
        "id": "otwy2AqBZu_k"
      }
    },
    {
      "cell_type": "code",
      "source": [
        "#  Build and train baseline model\n",
        "import tensorflow as tf\n",
        "from tensorflow.keras.models import Sequential\n",
        "from tensorflow.keras.layers import Dense\n",
        "\n",
        "# Define the model\n",
        "model = Sequential([\n",
        "    Dense(32, input_dim=X_train.shape[1], activation='relu'),\n",
        "    Dense(16, activation='relu'),\n",
        "    Dense(1, activation='sigmoid')  # Output layer for binary classification\n",
        "])\n",
        "\n",
        "# Compile the model\n",
        "model.compile(\n",
        "    loss='binary_crossentropy',\n",
        "    optimizer='adam',\n",
        "    metrics=['accuracy']\n",
        ")\n",
        "\n",
        "# Train the model\n",
        "history = model.fit(X_train, y_train, epochs=30, batch_size=32, validation_split=0.2)\n"
      ],
      "metadata": {
        "colab": {
          "base_uri": "https://localhost:8080/"
        },
        "id": "cP4gTFDdZojv",
        "outputId": "48527249-a5d2-4136-9a4e-0aaedd4e4d11"
      },
      "execution_count": 31,
      "outputs": [
        {
          "output_type": "stream",
          "name": "stdout",
          "text": [
            "Epoch 1/30\n"
          ]
        },
        {
          "output_type": "stream",
          "name": "stderr",
          "text": [
            "/usr/local/lib/python3.11/dist-packages/keras/src/layers/core/dense.py:87: UserWarning: Do not pass an `input_shape`/`input_dim` argument to a layer. When using Sequential models, prefer using an `Input(shape)` object as the first layer in the model instead.\n",
            "  super().__init__(activity_regularizer=activity_regularizer, **kwargs)\n"
          ]
        },
        {
          "output_type": "stream",
          "name": "stdout",
          "text": [
            "\u001b[1m103/103\u001b[0m \u001b[32m━━━━━━━━━━━━━━━━━━━━\u001b[0m\u001b[37m\u001b[0m \u001b[1m3s\u001b[0m 7ms/step - accuracy: 0.8238 - loss: 0.4825 - val_accuracy: 0.9425 - val_loss: 0.2087\n",
            "Epoch 2/30\n",
            "\u001b[1m103/103\u001b[0m \u001b[32m━━━━━━━━━━━━━━━━━━━━\u001b[0m\u001b[37m\u001b[0m \u001b[1m0s\u001b[0m 3ms/step - accuracy: 0.9549 - loss: 0.1828 - val_accuracy: 0.9425 - val_loss: 0.1907\n",
            "Epoch 3/30\n",
            "\u001b[1m103/103\u001b[0m \u001b[32m━━━━━━━━━━━━━━━━━━━━\u001b[0m\u001b[37m\u001b[0m \u001b[1m1s\u001b[0m 3ms/step - accuracy: 0.9534 - loss: 0.1651 - val_accuracy: 0.9425 - val_loss: 0.1825\n",
            "Epoch 4/30\n",
            "\u001b[1m103/103\u001b[0m \u001b[32m━━━━━━━━━━━━━━━━━━━━\u001b[0m\u001b[37m\u001b[0m \u001b[1m1s\u001b[0m 7ms/step - accuracy: 0.9587 - loss: 0.1447 - val_accuracy: 0.9425 - val_loss: 0.1797\n",
            "Epoch 5/30\n",
            "\u001b[1m103/103\u001b[0m \u001b[32m━━━━━━━━━━━━━━━━━━━━\u001b[0m\u001b[37m\u001b[0m \u001b[1m1s\u001b[0m 8ms/step - accuracy: 0.9551 - loss: 0.1526 - val_accuracy: 0.9425 - val_loss: 0.1787\n",
            "Epoch 6/30\n",
            "\u001b[1m103/103\u001b[0m \u001b[32m━━━━━━━━━━━━━━━━━━━━\u001b[0m\u001b[37m\u001b[0m \u001b[1m1s\u001b[0m 3ms/step - accuracy: 0.9524 - loss: 0.1570 - val_accuracy: 0.9425 - val_loss: 0.1794\n",
            "Epoch 7/30\n",
            "\u001b[1m103/103\u001b[0m \u001b[32m━━━━━━━━━━━━━━━━━━━━\u001b[0m\u001b[37m\u001b[0m \u001b[1m0s\u001b[0m 3ms/step - accuracy: 0.9543 - loss: 0.1497 - val_accuracy: 0.9425 - val_loss: 0.1784\n",
            "Epoch 8/30\n",
            "\u001b[1m103/103\u001b[0m \u001b[32m━━━━━━━━━━━━━━━━━━━━\u001b[0m\u001b[37m\u001b[0m \u001b[1m0s\u001b[0m 3ms/step - accuracy: 0.9558 - loss: 0.1511 - val_accuracy: 0.9425 - val_loss: 0.1765\n",
            "Epoch 9/30\n",
            "\u001b[1m103/103\u001b[0m \u001b[32m━━━━━━━━━━━━━━━━━━━━\u001b[0m\u001b[37m\u001b[0m \u001b[1m0s\u001b[0m 3ms/step - accuracy: 0.9540 - loss: 0.1456 - val_accuracy: 0.9425 - val_loss: 0.1789\n",
            "Epoch 10/30\n",
            "\u001b[1m103/103\u001b[0m \u001b[32m━━━━━━━━━━━━━━━━━━━━\u001b[0m\u001b[37m\u001b[0m \u001b[1m0s\u001b[0m 3ms/step - accuracy: 0.9580 - loss: 0.1419 - val_accuracy: 0.9425 - val_loss: 0.1759\n",
            "Epoch 11/30\n",
            "\u001b[1m103/103\u001b[0m \u001b[32m━━━━━━━━━━━━━━━━━━━━\u001b[0m\u001b[37m\u001b[0m \u001b[1m0s\u001b[0m 3ms/step - accuracy: 0.9564 - loss: 0.1402 - val_accuracy: 0.9425 - val_loss: 0.1796\n",
            "Epoch 12/30\n",
            "\u001b[1m103/103\u001b[0m \u001b[32m━━━━━━━━━━━━━━━━━━━━\u001b[0m\u001b[37m\u001b[0m \u001b[1m0s\u001b[0m 3ms/step - accuracy: 0.9510 - loss: 0.1557 - val_accuracy: 0.9425 - val_loss: 0.1801\n",
            "Epoch 13/30\n",
            "\u001b[1m103/103\u001b[0m \u001b[32m━━━━━━━━━━━━━━━━━━━━\u001b[0m\u001b[37m\u001b[0m \u001b[1m1s\u001b[0m 3ms/step - accuracy: 0.9485 - loss: 0.1516 - val_accuracy: 0.9425 - val_loss: 0.1777\n",
            "Epoch 14/30\n",
            "\u001b[1m103/103\u001b[0m \u001b[32m━━━━━━━━━━━━━━━━━━━━\u001b[0m\u001b[37m\u001b[0m \u001b[1m0s\u001b[0m 3ms/step - accuracy: 0.9556 - loss: 0.1430 - val_accuracy: 0.9425 - val_loss: 0.1769\n",
            "Epoch 15/30\n",
            "\u001b[1m103/103\u001b[0m \u001b[32m━━━━━━━━━━━━━━━━━━━━\u001b[0m\u001b[37m\u001b[0m \u001b[1m1s\u001b[0m 3ms/step - accuracy: 0.9485 - loss: 0.1577 - val_accuracy: 0.9425 - val_loss: 0.1798\n",
            "Epoch 16/30\n",
            "\u001b[1m103/103\u001b[0m \u001b[32m━━━━━━━━━━━━━━━━━━━━\u001b[0m\u001b[37m\u001b[0m \u001b[1m0s\u001b[0m 3ms/step - accuracy: 0.9592 - loss: 0.1288 - val_accuracy: 0.9425 - val_loss: 0.1766\n",
            "Epoch 17/30\n",
            "\u001b[1m103/103\u001b[0m \u001b[32m━━━━━━━━━━━━━━━━━━━━\u001b[0m\u001b[37m\u001b[0m \u001b[1m0s\u001b[0m 2ms/step - accuracy: 0.9516 - loss: 0.1389 - val_accuracy: 0.9425 - val_loss: 0.1785\n",
            "Epoch 18/30\n",
            "\u001b[1m103/103\u001b[0m \u001b[32m━━━━━━━━━━━━━━━━━━━━\u001b[0m\u001b[37m\u001b[0m \u001b[1m0s\u001b[0m 3ms/step - accuracy: 0.9518 - loss: 0.1500 - val_accuracy: 0.9425 - val_loss: 0.1836\n",
            "Epoch 19/30\n",
            "\u001b[1m103/103\u001b[0m \u001b[32m━━━━━━━━━━━━━━━━━━━━\u001b[0m\u001b[37m\u001b[0m \u001b[1m0s\u001b[0m 3ms/step - accuracy: 0.9553 - loss: 0.1401 - val_accuracy: 0.9425 - val_loss: 0.1785\n",
            "Epoch 20/30\n",
            "\u001b[1m103/103\u001b[0m \u001b[32m━━━━━━━━━━━━━━━━━━━━\u001b[0m\u001b[37m\u001b[0m \u001b[1m0s\u001b[0m 3ms/step - accuracy: 0.9568 - loss: 0.1355 - val_accuracy: 0.9425 - val_loss: 0.1796\n",
            "Epoch 21/30\n",
            "\u001b[1m103/103\u001b[0m \u001b[32m━━━━━━━━━━━━━━━━━━━━\u001b[0m\u001b[37m\u001b[0m \u001b[1m0s\u001b[0m 3ms/step - accuracy: 0.9557 - loss: 0.1313 - val_accuracy: 0.9425 - val_loss: 0.1825\n",
            "Epoch 22/30\n",
            "\u001b[1m103/103\u001b[0m \u001b[32m━━━━━━━━━━━━━━━━━━━━\u001b[0m\u001b[37m\u001b[0m \u001b[1m0s\u001b[0m 3ms/step - accuracy: 0.9475 - loss: 0.1496 - val_accuracy: 0.9425 - val_loss: 0.1919\n",
            "Epoch 23/30\n",
            "\u001b[1m103/103\u001b[0m \u001b[32m━━━━━━━━━━━━━━━━━━━━\u001b[0m\u001b[37m\u001b[0m \u001b[1m0s\u001b[0m 4ms/step - accuracy: 0.9534 - loss: 0.1348 - val_accuracy: 0.9425 - val_loss: 0.1831\n",
            "Epoch 24/30\n",
            "\u001b[1m103/103\u001b[0m \u001b[32m━━━━━━━━━━━━━━━━━━━━\u001b[0m\u001b[37m\u001b[0m \u001b[1m1s\u001b[0m 5ms/step - accuracy: 0.9594 - loss: 0.1280 - val_accuracy: 0.9413 - val_loss: 0.1822\n",
            "Epoch 25/30\n",
            "\u001b[1m103/103\u001b[0m \u001b[32m━━━━━━━━━━━━━━━━━━━━\u001b[0m\u001b[37m\u001b[0m \u001b[1m1s\u001b[0m 5ms/step - accuracy: 0.9535 - loss: 0.1429 - val_accuracy: 0.9401 - val_loss: 0.1824\n",
            "Epoch 26/30\n",
            "\u001b[1m103/103\u001b[0m \u001b[32m━━━━━━━━━━━━━━━━━━━━\u001b[0m\u001b[37m\u001b[0m \u001b[1m1s\u001b[0m 5ms/step - accuracy: 0.9563 - loss: 0.1334 - val_accuracy: 0.9413 - val_loss: 0.1862\n",
            "Epoch 27/30\n",
            "\u001b[1m103/103\u001b[0m \u001b[32m━━━━━━━━━━━━━━━━━━━━\u001b[0m\u001b[37m\u001b[0m \u001b[1m0s\u001b[0m 3ms/step - accuracy: 0.9494 - loss: 0.1450 - val_accuracy: 0.9413 - val_loss: 0.1877\n",
            "Epoch 28/30\n",
            "\u001b[1m103/103\u001b[0m \u001b[32m━━━━━━━━━━━━━━━━━━━━\u001b[0m\u001b[37m\u001b[0m \u001b[1m0s\u001b[0m 3ms/step - accuracy: 0.9508 - loss: 0.1422 - val_accuracy: 0.9413 - val_loss: 0.1905\n",
            "Epoch 29/30\n",
            "\u001b[1m103/103\u001b[0m \u001b[32m━━━━━━━━━━━━━━━━━━━━\u001b[0m\u001b[37m\u001b[0m \u001b[1m0s\u001b[0m 3ms/step - accuracy: 0.9560 - loss: 0.1281 - val_accuracy: 0.9413 - val_loss: 0.1886\n",
            "Epoch 30/30\n",
            "\u001b[1m103/103\u001b[0m \u001b[32m━━━━━━━━━━━━━━━━━━━━\u001b[0m\u001b[37m\u001b[0m \u001b[1m0s\u001b[0m 3ms/step - accuracy: 0.9544 - loss: 0.1351 - val_accuracy: 0.9401 - val_loss: 0.1885\n"
          ]
        }
      ]
    },
    {
      "cell_type": "markdown",
      "source": [
        "**Step: Model Evaluation — Accuracy, Precision, Recall, F1**\n",
        "\n",
        "Since we’re working with imbalanced data (only ~5% stroke), accuracy alone is misleading — we need to include:\n",
        "\n",
        "* Accuracy\n",
        "\n",
        "* Precision\n",
        "\n",
        "* Recall\n",
        "\n",
        "* F1 Score\n",
        "\n"
      ],
      "metadata": {
        "id": "CbLycQHYblAI"
      }
    },
    {
      "cell_type": "code",
      "source": [
        "# Model evaluation\n",
        "from sklearn.metrics import accuracy_score, precision_score, recall_score, f1_score\n",
        "\n",
        "# Predict on test set\n",
        "y_pred_probs = model.predict(X_test)\n",
        "y_pred = (y_pred_probs > 0.5).astype(int)  # convert probabilities to binary\n",
        "\n",
        "# Calculate metrics\n",
        "acc = accuracy_score(y_test, y_pred)\n",
        "prec = precision_score(y_test, y_pred, zero_division=0)\n",
        "rec = recall_score(y_test, y_pred)\n",
        "f1 = f1_score(y_test, y_pred)\n",
        "\n",
        "print(f\"Accuracy:  {acc:.4f}\")\n",
        "print(f\"Precision: {prec:.4f}\")\n",
        "print(f\"Recall:    {rec:.4f}\")\n",
        "print(f\"F1 Score:  {f1:.4f}\")\n"
      ],
      "metadata": {
        "colab": {
          "base_uri": "https://localhost:8080/"
        },
        "id": "XLkxHuEzbp5u",
        "outputId": "5b3a8f7c-fcd3-42b8-e3b5-0a5d01f23a6b"
      },
      "execution_count": 32,
      "outputs": [
        {
          "output_type": "stream",
          "name": "stdout",
          "text": [
            "\u001b[1m32/32\u001b[0m \u001b[32m━━━━━━━━━━━━━━━━━━━━\u001b[0m\u001b[37m\u001b[0m \u001b[1m0s\u001b[0m 3ms/step\n",
            "Accuracy:  0.9501\n",
            "Precision: 0.3333\n",
            "Recall:    0.0200\n",
            "F1 Score:  0.0377\n"
          ]
        }
      ]
    },
    {
      "cell_type": "markdown",
      "source": [
        "**Explanation:**\n",
        "\n",
        "* accuracy tells us overall correctness.\n",
        "\n",
        "* precision tells us how many predicted strokes were correct.\n",
        "\n",
        "* recall shows how well we found actual stroke cases.\n",
        "\n",
        "* f1 balances precision & recall — crucial for imbalanced data.\n",
        "\n",
        "\n",
        "\n",
        "\n"
      ],
      "metadata": {
        "id": "RJAH4jhrbvMw"
      }
    },
    {
      "cell_type": "markdown",
      "source": [
        "**Step: Model Improvement (Strategy 1 of 3)**\n",
        "\n",
        "We’ll now apply three improvement strategies — one by one — and compare them later."
      ],
      "metadata": {
        "id": "vWBSv-RRcaWC"
      }
    },
    {
      "cell_type": "markdown",
      "source": [
        "**Strategy 1: Adjust Network Architecture**\n",
        "\n",
        "*We’ll:*\n",
        "\n",
        "* Add more layers\n",
        "\n",
        "* Use Dropout for regularisation (helps reduce overfitting)\n",
        "\n",
        "* Increase hidden units for better learning"
      ],
      "metadata": {
        "id": "p0pPQkrPchDY"
      }
    },
    {
      "cell_type": "code",
      "source": [
        "#  Strategy 1 - Deeper network with dropout\n",
        "from tensorflow.keras.layers import Dropout\n",
        "\n",
        "model_v1 = Sequential([\n",
        "    Dense(64, input_shape=(X_train.shape[1],), activation='relu'),\n",
        "    Dropout(0.3),\n",
        "    Dense(32, activation='relu'),\n",
        "    Dropout(0.2),\n",
        "    Dense(16, activation='relu'),\n",
        "    Dense(1, activation='sigmoid')\n",
        "])\n",
        "\n",
        "model_v1.compile(\n",
        "    loss='binary_crossentropy',\n",
        "    optimizer='adam',\n",
        "    metrics=['accuracy']\n",
        ")\n",
        "\n",
        "history_v1 = model_v1.fit(X_train, y_train, epochs=30, batch_size=32, validation_split=0.2)\n"
      ],
      "metadata": {
        "colab": {
          "base_uri": "https://localhost:8080/"
        },
        "id": "UtXZbRD0bzy-",
        "outputId": "bdb4a6f6-b0d5-40ca-d5fc-9f8afcebf4d7"
      },
      "execution_count": 33,
      "outputs": [
        {
          "output_type": "stream",
          "name": "stdout",
          "text": [
            "Epoch 1/30\n"
          ]
        },
        {
          "output_type": "stream",
          "name": "stderr",
          "text": [
            "/usr/local/lib/python3.11/dist-packages/keras/src/layers/core/dense.py:87: UserWarning: Do not pass an `input_shape`/`input_dim` argument to a layer. When using Sequential models, prefer using an `Input(shape)` object as the first layer in the model instead.\n",
            "  super().__init__(activity_regularizer=activity_regularizer, **kwargs)\n"
          ]
        },
        {
          "output_type": "stream",
          "name": "stdout",
          "text": [
            "\u001b[1m103/103\u001b[0m \u001b[32m━━━━━━━━━━━━━━━━━━━━\u001b[0m\u001b[37m\u001b[0m \u001b[1m2s\u001b[0m 5ms/step - accuracy: 0.9184 - loss: 0.3366 - val_accuracy: 0.9425 - val_loss: 0.1851\n",
            "Epoch 2/30\n",
            "\u001b[1m103/103\u001b[0m \u001b[32m━━━━━━━━━━━━━━━━━━━━\u001b[0m\u001b[37m\u001b[0m \u001b[1m0s\u001b[0m 3ms/step - accuracy: 0.9510 - loss: 0.1773 - val_accuracy: 0.9425 - val_loss: 0.1776\n",
            "Epoch 3/30\n",
            "\u001b[1m103/103\u001b[0m \u001b[32m━━━━━━━━━━━━━━━━━━━━\u001b[0m\u001b[37m\u001b[0m \u001b[1m0s\u001b[0m 3ms/step - accuracy: 0.9531 - loss: 0.1637 - val_accuracy: 0.9425 - val_loss: 0.1757\n",
            "Epoch 4/30\n",
            "\u001b[1m103/103\u001b[0m \u001b[32m━━━━━━━━━━━━━━━━━━━━\u001b[0m\u001b[37m\u001b[0m \u001b[1m1s\u001b[0m 3ms/step - accuracy: 0.9543 - loss: 0.1598 - val_accuracy: 0.9425 - val_loss: 0.1733\n",
            "Epoch 5/30\n",
            "\u001b[1m103/103\u001b[0m \u001b[32m━━━━━━━━━━━━━━━━━━━━\u001b[0m\u001b[37m\u001b[0m \u001b[1m1s\u001b[0m 3ms/step - accuracy: 0.9543 - loss: 0.1613 - val_accuracy: 0.9425 - val_loss: 0.1758\n",
            "Epoch 6/30\n",
            "\u001b[1m103/103\u001b[0m \u001b[32m━━━━━━━━━━━━━━━━━━━━\u001b[0m\u001b[37m\u001b[0m \u001b[1m1s\u001b[0m 3ms/step - accuracy: 0.9540 - loss: 0.1528 - val_accuracy: 0.9425 - val_loss: 0.1747\n",
            "Epoch 7/30\n",
            "\u001b[1m103/103\u001b[0m \u001b[32m━━━━━━━━━━━━━━━━━━━━\u001b[0m\u001b[37m\u001b[0m \u001b[1m1s\u001b[0m 3ms/step - accuracy: 0.9499 - loss: 0.1598 - val_accuracy: 0.9425 - val_loss: 0.1788\n",
            "Epoch 8/30\n",
            "\u001b[1m103/103\u001b[0m \u001b[32m━━━━━━━━━━━━━━━━━━━━\u001b[0m\u001b[37m\u001b[0m \u001b[1m1s\u001b[0m 3ms/step - accuracy: 0.9574 - loss: 0.1488 - val_accuracy: 0.9425 - val_loss: 0.1800\n",
            "Epoch 9/30\n",
            "\u001b[1m103/103\u001b[0m \u001b[32m━━━━━━━━━━━━━━━━━━━━\u001b[0m\u001b[37m\u001b[0m \u001b[1m1s\u001b[0m 3ms/step - accuracy: 0.9533 - loss: 0.1491 - val_accuracy: 0.9425 - val_loss: 0.1776\n",
            "Epoch 10/30\n",
            "\u001b[1m103/103\u001b[0m \u001b[32m━━━━━━━━━━━━━━━━━━━━\u001b[0m\u001b[37m\u001b[0m \u001b[1m0s\u001b[0m 3ms/step - accuracy: 0.9545 - loss: 0.1541 - val_accuracy: 0.9425 - val_loss: 0.1764\n",
            "Epoch 11/30\n",
            "\u001b[1m103/103\u001b[0m \u001b[32m━━━━━━━━━━━━━━━━━━━━\u001b[0m\u001b[37m\u001b[0m \u001b[1m0s\u001b[0m 3ms/step - accuracy: 0.9505 - loss: 0.1592 - val_accuracy: 0.9425 - val_loss: 0.1811\n",
            "Epoch 12/30\n",
            "\u001b[1m103/103\u001b[0m \u001b[32m━━━━━━━━━━━━━━━━━━━━\u001b[0m\u001b[37m\u001b[0m \u001b[1m1s\u001b[0m 3ms/step - accuracy: 0.9575 - loss: 0.1395 - val_accuracy: 0.9425 - val_loss: 0.1775\n",
            "Epoch 13/30\n",
            "\u001b[1m103/103\u001b[0m \u001b[32m━━━━━━━━━━━━━━━━━━━━\u001b[0m\u001b[37m\u001b[0m \u001b[1m1s\u001b[0m 3ms/step - accuracy: 0.9509 - loss: 0.1502 - val_accuracy: 0.9425 - val_loss: 0.1815\n",
            "Epoch 14/30\n",
            "\u001b[1m103/103\u001b[0m \u001b[32m━━━━━━━━━━━━━━━━━━━━\u001b[0m\u001b[37m\u001b[0m \u001b[1m1s\u001b[0m 3ms/step - accuracy: 0.9525 - loss: 0.1543 - val_accuracy: 0.9425 - val_loss: 0.1819\n",
            "Epoch 15/30\n",
            "\u001b[1m103/103\u001b[0m \u001b[32m━━━━━━━━━━━━━━━━━━━━\u001b[0m\u001b[37m\u001b[0m \u001b[1m0s\u001b[0m 3ms/step - accuracy: 0.9544 - loss: 0.1462 - val_accuracy: 0.9425 - val_loss: 0.1789\n",
            "Epoch 16/30\n",
            "\u001b[1m103/103\u001b[0m \u001b[32m━━━━━━━━━━━━━━━━━━━━\u001b[0m\u001b[37m\u001b[0m \u001b[1m1s\u001b[0m 4ms/step - accuracy: 0.9502 - loss: 0.1596 - val_accuracy: 0.9425 - val_loss: 0.1850\n",
            "Epoch 17/30\n",
            "\u001b[1m103/103\u001b[0m \u001b[32m━━━━━━━━━━━━━━━━━━━━\u001b[0m\u001b[37m\u001b[0m \u001b[1m1s\u001b[0m 5ms/step - accuracy: 0.9559 - loss: 0.1353 - val_accuracy: 0.9425 - val_loss: 0.1803\n",
            "Epoch 18/30\n",
            "\u001b[1m103/103\u001b[0m \u001b[32m━━━━━━━━━━━━━━━━━━━━\u001b[0m\u001b[37m\u001b[0m \u001b[1m1s\u001b[0m 5ms/step - accuracy: 0.9517 - loss: 0.1508 - val_accuracy: 0.9425 - val_loss: 0.1793\n",
            "Epoch 19/30\n",
            "\u001b[1m103/103\u001b[0m \u001b[32m━━━━━━━━━━━━━━━━━━━━\u001b[0m\u001b[37m\u001b[0m \u001b[1m1s\u001b[0m 5ms/step - accuracy: 0.9549 - loss: 0.1419 - val_accuracy: 0.9425 - val_loss: 0.1823\n",
            "Epoch 20/30\n",
            "\u001b[1m103/103\u001b[0m \u001b[32m━━━━━━━━━━━━━━━━━━━━\u001b[0m\u001b[37m\u001b[0m \u001b[1m0s\u001b[0m 3ms/step - accuracy: 0.9556 - loss: 0.1369 - val_accuracy: 0.9425 - val_loss: 0.1819\n",
            "Epoch 21/30\n",
            "\u001b[1m103/103\u001b[0m \u001b[32m━━━━━━━━━━━━━━━━━━━━\u001b[0m\u001b[37m\u001b[0m \u001b[1m1s\u001b[0m 3ms/step - accuracy: 0.9497 - loss: 0.1529 - val_accuracy: 0.9425 - val_loss: 0.1852\n",
            "Epoch 22/30\n",
            "\u001b[1m103/103\u001b[0m \u001b[32m━━━━━━━━━━━━━━━━━━━━\u001b[0m\u001b[37m\u001b[0m \u001b[1m1s\u001b[0m 3ms/step - accuracy: 0.9517 - loss: 0.1394 - val_accuracy: 0.9425 - val_loss: 0.1889\n",
            "Epoch 23/30\n",
            "\u001b[1m103/103\u001b[0m \u001b[32m━━━━━━━━━━━━━━━━━━━━\u001b[0m\u001b[37m\u001b[0m \u001b[1m0s\u001b[0m 3ms/step - accuracy: 0.9560 - loss: 0.1383 - val_accuracy: 0.9425 - val_loss: 0.1862\n",
            "Epoch 24/30\n",
            "\u001b[1m103/103\u001b[0m \u001b[32m━━━━━━━━━━━━━━━━━━━━\u001b[0m\u001b[37m\u001b[0m \u001b[1m1s\u001b[0m 3ms/step - accuracy: 0.9540 - loss: 0.1545 - val_accuracy: 0.9425 - val_loss: 0.1886\n",
            "Epoch 25/30\n",
            "\u001b[1m103/103\u001b[0m \u001b[32m━━━━━━━━━━━━━━━━━━━━\u001b[0m\u001b[37m\u001b[0m \u001b[1m0s\u001b[0m 3ms/step - accuracy: 0.9496 - loss: 0.1483 - val_accuracy: 0.9425 - val_loss: 0.1911\n",
            "Epoch 26/30\n",
            "\u001b[1m103/103\u001b[0m \u001b[32m━━━━━━━━━━━━━━━━━━━━\u001b[0m\u001b[37m\u001b[0m \u001b[1m1s\u001b[0m 3ms/step - accuracy: 0.9545 - loss: 0.1375 - val_accuracy: 0.9425 - val_loss: 0.1926\n",
            "Epoch 27/30\n",
            "\u001b[1m103/103\u001b[0m \u001b[32m━━━━━━━━━━━━━━━━━━━━\u001b[0m\u001b[37m\u001b[0m \u001b[1m0s\u001b[0m 3ms/step - accuracy: 0.9569 - loss: 0.1375 - val_accuracy: 0.9425 - val_loss: 0.1843\n",
            "Epoch 28/30\n",
            "\u001b[1m103/103\u001b[0m \u001b[32m━━━━━━━━━━━━━━━━━━━━\u001b[0m\u001b[37m\u001b[0m \u001b[1m1s\u001b[0m 3ms/step - accuracy: 0.9577 - loss: 0.1323 - val_accuracy: 0.9425 - val_loss: 0.1892\n",
            "Epoch 29/30\n",
            "\u001b[1m103/103\u001b[0m \u001b[32m━━━━━━━━━━━━━━━━━━━━\u001b[0m\u001b[37m\u001b[0m \u001b[1m1s\u001b[0m 3ms/step - accuracy: 0.9524 - loss: 0.1385 - val_accuracy: 0.9425 - val_loss: 0.1911\n",
            "Epoch 30/30\n",
            "\u001b[1m103/103\u001b[0m \u001b[32m━━━━━━━━━━━━━━━━━━━━\u001b[0m\u001b[37m\u001b[0m \u001b[1m1s\u001b[0m 3ms/step - accuracy: 0.9582 - loss: 0.1324 - val_accuracy: 0.9425 - val_loss: 0.1903\n"
          ]
        }
      ]
    },
    {
      "cell_type": "markdown",
      "source": [
        "**Explanation:**\n",
        "\n",
        "We increased network depth and added Dropout layers to avoid overfitting. This gives the model more capacity and regularisation."
      ],
      "metadata": {
        "id": "5P1eeHG0czL_"
      }
    },
    {
      "cell_type": "markdown",
      "source": [
        "**Step: Model Improvement – Strategy 2 of 3**\n",
        "\n",
        "***Strategy 2: Try Different Activation Function***\n",
        "\n",
        "In this version, we’ll:\n",
        "\n",
        "* Use LeakyReLU instead of ReLU to avoid dying neuron problems\n",
        "\n",
        "* Keep the same architecture as Strategy 1\n",
        "\n"
      ],
      "metadata": {
        "id": "HJrADIOzc_JZ"
      }
    },
    {
      "cell_type": "code",
      "source": [
        "#  Strategy 2 - LeakyReLU activation\n",
        "from tensorflow.keras.layers import LeakyReLU\n",
        "\n",
        "model_v2 = Sequential([\n",
        "    Dense(64, input_shape=(X_train.shape[1],)),\n",
        "    LeakyReLU(alpha=0.1),\n",
        "    Dropout(0.3),\n",
        "    Dense(32),\n",
        "    LeakyReLU(alpha=0.1),\n",
        "    Dropout(0.2),\n",
        "    Dense(16),\n",
        "    LeakyReLU(alpha=0.1),\n",
        "    Dense(1, activation='sigmoid')\n",
        "])\n",
        "\n",
        "model_v2.compile(\n",
        "    loss='binary_crossentropy',\n",
        "    optimizer='adam',\n",
        "    metrics=['accuracy']\n",
        ")\n",
        "\n",
        "history_v2 = model_v2.fit(X_train, y_train, epochs=30, batch_size=32, validation_split=0.2)\n"
      ],
      "metadata": {
        "colab": {
          "base_uri": "https://localhost:8080/"
        },
        "id": "p11doFfEc13f",
        "outputId": "8573c0a6-7306-4f34-d316-bbf9c4e40614"
      },
      "execution_count": 34,
      "outputs": [
        {
          "output_type": "stream",
          "name": "stdout",
          "text": [
            "Epoch 1/30\n"
          ]
        },
        {
          "output_type": "stream",
          "name": "stderr",
          "text": [
            "/usr/local/lib/python3.11/dist-packages/keras/src/layers/core/dense.py:87: UserWarning: Do not pass an `input_shape`/`input_dim` argument to a layer. When using Sequential models, prefer using an `Input(shape)` object as the first layer in the model instead.\n",
            "  super().__init__(activity_regularizer=activity_regularizer, **kwargs)\n",
            "/usr/local/lib/python3.11/dist-packages/keras/src/layers/activations/leaky_relu.py:41: UserWarning: Argument `alpha` is deprecated. Use `negative_slope` instead.\n",
            "  warnings.warn(\n"
          ]
        },
        {
          "output_type": "stream",
          "name": "stdout",
          "text": [
            "\u001b[1m103/103\u001b[0m \u001b[32m━━━━━━━━━━━━━━━━━━━━\u001b[0m\u001b[37m\u001b[0m \u001b[1m2s\u001b[0m 5ms/step - accuracy: 0.8371 - loss: 0.4539 - val_accuracy: 0.9425 - val_loss: 0.1934\n",
            "Epoch 2/30\n",
            "\u001b[1m103/103\u001b[0m \u001b[32m━━━━━━━━━━━━━━━━━━━━\u001b[0m\u001b[37m\u001b[0m \u001b[1m0s\u001b[0m 4ms/step - accuracy: 0.9591 - loss: 0.1508 - val_accuracy: 0.9425 - val_loss: 0.1770\n",
            "Epoch 3/30\n",
            "\u001b[1m103/103\u001b[0m \u001b[32m━━━━━━━━━━━━━━━━━━━━\u001b[0m\u001b[37m\u001b[0m \u001b[1m1s\u001b[0m 5ms/step - accuracy: 0.9591 - loss: 0.1565 - val_accuracy: 0.9425 - val_loss: 0.1752\n",
            "Epoch 4/30\n",
            "\u001b[1m103/103\u001b[0m \u001b[32m━━━━━━━━━━━━━━━━━━━━\u001b[0m\u001b[37m\u001b[0m \u001b[1m1s\u001b[0m 5ms/step - accuracy: 0.9571 - loss: 0.1525 - val_accuracy: 0.9425 - val_loss: 0.1751\n",
            "Epoch 5/30\n",
            "\u001b[1m103/103\u001b[0m \u001b[32m━━━━━━━━━━━━━━━━━━━━\u001b[0m\u001b[37m\u001b[0m \u001b[1m1s\u001b[0m 5ms/step - accuracy: 0.9471 - loss: 0.1753 - val_accuracy: 0.9425 - val_loss: 0.1780\n",
            "Epoch 6/30\n",
            "\u001b[1m103/103\u001b[0m \u001b[32m━━━━━━━━━━━━━━━━━━━━\u001b[0m\u001b[37m\u001b[0m \u001b[1m0s\u001b[0m 3ms/step - accuracy: 0.9547 - loss: 0.1601 - val_accuracy: 0.9425 - val_loss: 0.1738\n",
            "Epoch 7/30\n",
            "\u001b[1m103/103\u001b[0m \u001b[32m━━━━━━━━━━━━━━━━━━━━\u001b[0m\u001b[37m\u001b[0m \u001b[1m0s\u001b[0m 3ms/step - accuracy: 0.9524 - loss: 0.1600 - val_accuracy: 0.9425 - val_loss: 0.1763\n",
            "Epoch 8/30\n",
            "\u001b[1m103/103\u001b[0m \u001b[32m━━━━━━━━━━━━━━━━━━━━\u001b[0m\u001b[37m\u001b[0m \u001b[1m1s\u001b[0m 3ms/step - accuracy: 0.9562 - loss: 0.1451 - val_accuracy: 0.9425 - val_loss: 0.1773\n",
            "Epoch 9/30\n",
            "\u001b[1m103/103\u001b[0m \u001b[32m━━━━━━━━━━━━━━━━━━━━\u001b[0m\u001b[37m\u001b[0m \u001b[1m0s\u001b[0m 3ms/step - accuracy: 0.9514 - loss: 0.1531 - val_accuracy: 0.9425 - val_loss: 0.1763\n",
            "Epoch 10/30\n",
            "\u001b[1m103/103\u001b[0m \u001b[32m━━━━━━━━━━━━━━━━━━━━\u001b[0m\u001b[37m\u001b[0m \u001b[1m1s\u001b[0m 3ms/step - accuracy: 0.9500 - loss: 0.1650 - val_accuracy: 0.9425 - val_loss: 0.1767\n",
            "Epoch 11/30\n",
            "\u001b[1m103/103\u001b[0m \u001b[32m━━━━━━━━━━━━━━━━━━━━\u001b[0m\u001b[37m\u001b[0m \u001b[1m1s\u001b[0m 3ms/step - accuracy: 0.9561 - loss: 0.1478 - val_accuracy: 0.9425 - val_loss: 0.1724\n",
            "Epoch 12/30\n",
            "\u001b[1m103/103\u001b[0m \u001b[32m━━━━━━━━━━━━━━━━━━━━\u001b[0m\u001b[37m\u001b[0m \u001b[1m1s\u001b[0m 3ms/step - accuracy: 0.9549 - loss: 0.1509 - val_accuracy: 0.9425 - val_loss: 0.1787\n",
            "Epoch 13/30\n",
            "\u001b[1m103/103\u001b[0m \u001b[32m━━━━━━━━━━━━━━━━━━━━\u001b[0m\u001b[37m\u001b[0m \u001b[1m1s\u001b[0m 3ms/step - accuracy: 0.9530 - loss: 0.1465 - val_accuracy: 0.9425 - val_loss: 0.1768\n",
            "Epoch 14/30\n",
            "\u001b[1m103/103\u001b[0m \u001b[32m━━━━━━━━━━━━━━━━━━━━\u001b[0m\u001b[37m\u001b[0m \u001b[1m1s\u001b[0m 3ms/step - accuracy: 0.9553 - loss: 0.1462 - val_accuracy: 0.9425 - val_loss: 0.1738\n",
            "Epoch 15/30\n",
            "\u001b[1m103/103\u001b[0m \u001b[32m━━━━━━━━━━━━━━━━━━━━\u001b[0m\u001b[37m\u001b[0m \u001b[1m1s\u001b[0m 3ms/step - accuracy: 0.9602 - loss: 0.1389 - val_accuracy: 0.9425 - val_loss: 0.1747\n",
            "Epoch 16/30\n",
            "\u001b[1m103/103\u001b[0m \u001b[32m━━━━━━━━━━━━━━━━━━━━\u001b[0m\u001b[37m\u001b[0m \u001b[1m1s\u001b[0m 3ms/step - accuracy: 0.9543 - loss: 0.1459 - val_accuracy: 0.9425 - val_loss: 0.1777\n",
            "Epoch 17/30\n",
            "\u001b[1m103/103\u001b[0m \u001b[32m━━━━━━━━━━━━━━━━━━━━\u001b[0m\u001b[37m\u001b[0m \u001b[1m0s\u001b[0m 3ms/step - accuracy: 0.9583 - loss: 0.1335 - val_accuracy: 0.9425 - val_loss: 0.1767\n",
            "Epoch 18/30\n",
            "\u001b[1m103/103\u001b[0m \u001b[32m━━━━━━━━━━━━━━━━━━━━\u001b[0m\u001b[37m\u001b[0m \u001b[1m0s\u001b[0m 3ms/step - accuracy: 0.9525 - loss: 0.1536 - val_accuracy: 0.9425 - val_loss: 0.1778\n",
            "Epoch 19/30\n",
            "\u001b[1m103/103\u001b[0m \u001b[32m━━━━━━━━━━━━━━━━━━━━\u001b[0m\u001b[37m\u001b[0m \u001b[1m1s\u001b[0m 3ms/step - accuracy: 0.9536 - loss: 0.1485 - val_accuracy: 0.9425 - val_loss: 0.1806\n",
            "Epoch 20/30\n",
            "\u001b[1m103/103\u001b[0m \u001b[32m━━━━━━━━━━━━━━━━━━━━\u001b[0m\u001b[37m\u001b[0m \u001b[1m1s\u001b[0m 3ms/step - accuracy: 0.9560 - loss: 0.1382 - val_accuracy: 0.9425 - val_loss: 0.1776\n",
            "Epoch 21/30\n",
            "\u001b[1m103/103\u001b[0m \u001b[32m━━━━━━━━━━━━━━━━━━━━\u001b[0m\u001b[37m\u001b[0m \u001b[1m0s\u001b[0m 3ms/step - accuracy: 0.9567 - loss: 0.1347 - val_accuracy: 0.9425 - val_loss: 0.1791\n",
            "Epoch 22/30\n",
            "\u001b[1m103/103\u001b[0m \u001b[32m━━━━━━━━━━━━━━━━━━━━\u001b[0m\u001b[37m\u001b[0m \u001b[1m1s\u001b[0m 3ms/step - accuracy: 0.9552 - loss: 0.1429 - val_accuracy: 0.9425 - val_loss: 0.1803\n",
            "Epoch 23/30\n",
            "\u001b[1m103/103\u001b[0m \u001b[32m━━━━━━━━━━━━━━━━━━━━\u001b[0m\u001b[37m\u001b[0m \u001b[1m1s\u001b[0m 3ms/step - accuracy: 0.9553 - loss: 0.1375 - val_accuracy: 0.9425 - val_loss: 0.1809\n",
            "Epoch 24/30\n",
            "\u001b[1m103/103\u001b[0m \u001b[32m━━━━━━━━━━━━━━━━━━━━\u001b[0m\u001b[37m\u001b[0m \u001b[1m0s\u001b[0m 3ms/step - accuracy: 0.9516 - loss: 0.1477 - val_accuracy: 0.9425 - val_loss: 0.1827\n",
            "Epoch 25/30\n",
            "\u001b[1m103/103\u001b[0m \u001b[32m━━━━━━━━━━━━━━━━━━━━\u001b[0m\u001b[37m\u001b[0m \u001b[1m1s\u001b[0m 5ms/step - accuracy: 0.9572 - loss: 0.1400 - val_accuracy: 0.9425 - val_loss: 0.1840\n",
            "Epoch 26/30\n",
            "\u001b[1m103/103\u001b[0m \u001b[32m━━━━━━━━━━━━━━━━━━━━\u001b[0m\u001b[37m\u001b[0m \u001b[1m1s\u001b[0m 5ms/step - accuracy: 0.9530 - loss: 0.1473 - val_accuracy: 0.9425 - val_loss: 0.1851\n",
            "Epoch 27/30\n",
            "\u001b[1m103/103\u001b[0m \u001b[32m━━━━━━━━━━━━━━━━━━━━\u001b[0m\u001b[37m\u001b[0m \u001b[1m1s\u001b[0m 5ms/step - accuracy: 0.9556 - loss: 0.1398 - val_accuracy: 0.9425 - val_loss: 0.1857\n",
            "Epoch 28/30\n",
            "\u001b[1m103/103\u001b[0m \u001b[32m━━━━━━━━━━━━━━━━━━━━\u001b[0m\u001b[37m\u001b[0m \u001b[1m0s\u001b[0m 3ms/step - accuracy: 0.9588 - loss: 0.1284 - val_accuracy: 0.9425 - val_loss: 0.1839\n",
            "Epoch 29/30\n",
            "\u001b[1m103/103\u001b[0m \u001b[32m━━━━━━━━━━━━━━━━━━━━\u001b[0m\u001b[37m\u001b[0m \u001b[1m1s\u001b[0m 3ms/step - accuracy: 0.9507 - loss: 0.1450 - val_accuracy: 0.9425 - val_loss: 0.1830\n",
            "Epoch 30/30\n",
            "\u001b[1m103/103\u001b[0m \u001b[32m━━━━━━━━━━━━━━━━━━━━\u001b[0m\u001b[37m\u001b[0m \u001b[1m1s\u001b[0m 3ms/step - accuracy: 0.9532 - loss: 0.1412 - val_accuracy: 0.9425 - val_loss: 0.1818\n"
          ]
        }
      ]
    },
    {
      "cell_type": "markdown",
      "source": [
        "**Explanation:**\n",
        "\n",
        "LeakyReLU allows small gradients even when the neuron isn’t firing. This can help deepen learning without flatlining the gradient in early layers."
      ],
      "metadata": {
        "id": "KtEBZALwdN53"
      }
    },
    {
      "cell_type": "markdown",
      "source": [
        "**Step: Model Improvement – Strategy 3 of 3**\n",
        "\n",
        "***Strategy 3: Handle Class Imbalance with Class Weights***\n",
        "\n",
        "Instead of changing the network, we’ll assign higher weight to stroke cases (which are rare) so the model learns to care more about them.\n",
        "\n",
        "This helps improve recall and F1-score for the minority class."
      ],
      "metadata": {
        "id": "g52L1NxidVdq"
      }
    },
    {
      "cell_type": "markdown",
      "source": [
        "***Step 1: Calculate Class Weights***"
      ],
      "metadata": {
        "id": "tT7LMDSQdmCZ"
      }
    },
    {
      "cell_type": "code",
      "source": [
        "# Calculate class weights\n",
        "from sklearn.utils import class_weight\n",
        "import numpy as np\n",
        "\n",
        "class_weights = class_weight.compute_class_weight(\n",
        "    class_weight='balanced',\n",
        "    classes=np.unique(y_train),\n",
        "    y=y_train\n",
        ")\n",
        "\n",
        "class_weights_dict = {0: class_weights[0], 1: class_weights[1]}\n",
        "print(\"Class Weights:\", class_weights_dict)\n"
      ],
      "metadata": {
        "colab": {
          "base_uri": "https://localhost:8080/"
        },
        "id": "U6DW5LWFdRf_",
        "outputId": "fc7c1e9b-48da-41b3-8044-7dce61e897ea"
      },
      "execution_count": 35,
      "outputs": [
        {
          "output_type": "stream",
          "name": "stdout",
          "text": [
            "Class Weights: {0: np.float64(0.5255849832861919), 1: np.float64(10.271356783919598)}\n"
          ]
        }
      ]
    },
    {
      "cell_type": "markdown",
      "source": [
        "***Step 2: Build Model Using Class Weights***"
      ],
      "metadata": {
        "id": "yBACaNo4djqk"
      }
    },
    {
      "cell_type": "code",
      "source": [
        "#  Train model using class weights (same architecture as v1)\n",
        "model_v3 = Sequential([\n",
        "    Dense(64, input_shape=(X_train.shape[1],), activation='relu'),\n",
        "    Dropout(0.3),\n",
        "    Dense(32, activation='relu'),\n",
        "    Dropout(0.2),\n",
        "    Dense(16, activation='relu'),\n",
        "    Dense(1, activation='sigmoid')\n",
        "])\n",
        "\n",
        "model_v3.compile(\n",
        "    loss='binary_crossentropy',\n",
        "    optimizer='adam',\n",
        "    metrics=['accuracy']\n",
        ")\n",
        "\n",
        "history_v3 = model_v3.fit(\n",
        "    X_train, y_train,\n",
        "    epochs=30,\n",
        "    batch_size=32,\n",
        "    validation_split=0.2,\n",
        "    class_weight=class_weights_dict  # 👈 key improvement\n",
        ")\n"
      ],
      "metadata": {
        "colab": {
          "base_uri": "https://localhost:8080/"
        },
        "id": "qw6vNe--dtWQ",
        "outputId": "59ecdae5-e2a9-4e6f-8e66-49c4c25df68a"
      },
      "execution_count": 36,
      "outputs": [
        {
          "output_type": "stream",
          "name": "stdout",
          "text": [
            "Epoch 1/30\n"
          ]
        },
        {
          "output_type": "stream",
          "name": "stderr",
          "text": [
            "/usr/local/lib/python3.11/dist-packages/keras/src/layers/core/dense.py:87: UserWarning: Do not pass an `input_shape`/`input_dim` argument to a layer. When using Sequential models, prefer using an `Input(shape)` object as the first layer in the model instead.\n",
            "  super().__init__(activity_regularizer=activity_regularizer, **kwargs)\n"
          ]
        },
        {
          "output_type": "stream",
          "name": "stdout",
          "text": [
            "\u001b[1m103/103\u001b[0m \u001b[32m━━━━━━━━━━━━━━━━━━━━\u001b[0m\u001b[37m\u001b[0m \u001b[1m2s\u001b[0m 5ms/step - accuracy: 0.7768 - loss: 0.6454 - val_accuracy: 0.6027 - val_loss: 0.5685\n",
            "Epoch 2/30\n",
            "\u001b[1m103/103\u001b[0m \u001b[32m━━━━━━━━━━━━━━━━━━━━\u001b[0m\u001b[37m\u001b[0m \u001b[1m0s\u001b[0m 3ms/step - accuracy: 0.6063 - loss: 0.5183 - val_accuracy: 0.6589 - val_loss: 0.5328\n",
            "Epoch 3/30\n",
            "\u001b[1m103/103\u001b[0m \u001b[32m━━━━━━━━━━━━━━━━━━━━\u001b[0m\u001b[37m\u001b[0m \u001b[1m1s\u001b[0m 3ms/step - accuracy: 0.6702 - loss: 0.5009 - val_accuracy: 0.6895 - val_loss: 0.4955\n",
            "Epoch 4/30\n",
            "\u001b[1m103/103\u001b[0m \u001b[32m━━━━━━━━━━━━━━━━━━━━\u001b[0m\u001b[37m\u001b[0m \u001b[1m1s\u001b[0m 3ms/step - accuracy: 0.7112 - loss: 0.4478 - val_accuracy: 0.6638 - val_loss: 0.5133\n",
            "Epoch 5/30\n",
            "\u001b[1m103/103\u001b[0m \u001b[32m━━━━━━━━━━━━━━━━━━━━\u001b[0m\u001b[37m\u001b[0m \u001b[1m1s\u001b[0m 3ms/step - accuracy: 0.6786 - loss: 0.5427 - val_accuracy: 0.7298 - val_loss: 0.4348\n",
            "Epoch 6/30\n",
            "\u001b[1m103/103\u001b[0m \u001b[32m━━━━━━━━━━━━━━━━━━━━\u001b[0m\u001b[37m\u001b[0m \u001b[1m1s\u001b[0m 3ms/step - accuracy: 0.6847 - loss: 0.4824 - val_accuracy: 0.7066 - val_loss: 0.4622\n",
            "Epoch 7/30\n",
            "\u001b[1m103/103\u001b[0m \u001b[32m━━━━━━━━━━━━━━━━━━━━\u001b[0m\u001b[37m\u001b[0m \u001b[1m1s\u001b[0m 3ms/step - accuracy: 0.7140 - loss: 0.4308 - val_accuracy: 0.6760 - val_loss: 0.5201\n",
            "Epoch 8/30\n",
            "\u001b[1m103/103\u001b[0m \u001b[32m━━━━━━━━━━━━━━━━━━━━\u001b[0m\u001b[37m\u001b[0m \u001b[1m1s\u001b[0m 3ms/step - accuracy: 0.6787 - loss: 0.5112 - val_accuracy: 0.7176 - val_loss: 0.4474\n",
            "Epoch 9/30\n",
            "\u001b[1m103/103\u001b[0m \u001b[32m━━━━━━━━━━━━━━━━━━━━\u001b[0m\u001b[37m\u001b[0m \u001b[1m1s\u001b[0m 3ms/step - accuracy: 0.6927 - loss: 0.4557 - val_accuracy: 0.7103 - val_loss: 0.4657\n",
            "Epoch 10/30\n",
            "\u001b[1m103/103\u001b[0m \u001b[32m━━━━━━━━━━━━━━━━━━━━\u001b[0m\u001b[37m\u001b[0m \u001b[1m1s\u001b[0m 4ms/step - accuracy: 0.7291 - loss: 0.4203 - val_accuracy: 0.7017 - val_loss: 0.4790\n",
            "Epoch 11/30\n",
            "\u001b[1m103/103\u001b[0m \u001b[32m━━━━━━━━━━━━━━━━━━━━\u001b[0m\u001b[37m\u001b[0m \u001b[1m1s\u001b[0m 3ms/step - accuracy: 0.6990 - loss: 0.4851 - val_accuracy: 0.6993 - val_loss: 0.4687\n",
            "Epoch 12/30\n",
            "\u001b[1m103/103\u001b[0m \u001b[32m━━━━━━━━━━━━━━━━━━━━\u001b[0m\u001b[37m\u001b[0m \u001b[1m0s\u001b[0m 3ms/step - accuracy: 0.6926 - loss: 0.4290 - val_accuracy: 0.7017 - val_loss: 0.4702\n",
            "Epoch 13/30\n",
            "\u001b[1m103/103\u001b[0m \u001b[32m━━━━━━━━━━━━━━━━━━━━\u001b[0m\u001b[37m\u001b[0m \u001b[1m1s\u001b[0m 3ms/step - accuracy: 0.7043 - loss: 0.4215 - val_accuracy: 0.6956 - val_loss: 0.5029\n",
            "Epoch 14/30\n",
            "\u001b[1m103/103\u001b[0m \u001b[32m━━━━━━━━━━━━━━━━━━━━\u001b[0m\u001b[37m\u001b[0m \u001b[1m0s\u001b[0m 3ms/step - accuracy: 0.6980 - loss: 0.4218 - val_accuracy: 0.7029 - val_loss: 0.4753\n",
            "Epoch 15/30\n",
            "\u001b[1m103/103\u001b[0m \u001b[32m━━━━━━━━━━━━━━━━━━━━\u001b[0m\u001b[37m\u001b[0m \u001b[1m1s\u001b[0m 3ms/step - accuracy: 0.6963 - loss: 0.4493 - val_accuracy: 0.7213 - val_loss: 0.4395\n",
            "Epoch 16/30\n",
            "\u001b[1m103/103\u001b[0m \u001b[32m━━━━━━━━━━━━━━━━━━━━\u001b[0m\u001b[37m\u001b[0m \u001b[1m1s\u001b[0m 5ms/step - accuracy: 0.7081 - loss: 0.4736 - val_accuracy: 0.7249 - val_loss: 0.4334\n",
            "Epoch 17/30\n",
            "\u001b[1m103/103\u001b[0m \u001b[32m━━━━━━━━━━━━━━━━━━━━\u001b[0m\u001b[37m\u001b[0m \u001b[1m1s\u001b[0m 5ms/step - accuracy: 0.7152 - loss: 0.4125 - val_accuracy: 0.7176 - val_loss: 0.4377\n",
            "Epoch 18/30\n",
            "\u001b[1m103/103\u001b[0m \u001b[32m━━━━━━━━━━━━━━━━━━━━\u001b[0m\u001b[37m\u001b[0m \u001b[1m1s\u001b[0m 5ms/step - accuracy: 0.7112 - loss: 0.4664 - val_accuracy: 0.7164 - val_loss: 0.4506\n",
            "Epoch 19/30\n",
            "\u001b[1m103/103\u001b[0m \u001b[32m━━━━━━━━━━━━━━━━━━━━\u001b[0m\u001b[37m\u001b[0m \u001b[1m1s\u001b[0m 5ms/step - accuracy: 0.7203 - loss: 0.3746 - val_accuracy: 0.6993 - val_loss: 0.4840\n",
            "Epoch 20/30\n",
            "\u001b[1m103/103\u001b[0m \u001b[32m━━━━━━━━━━━━━━━━━━━━\u001b[0m\u001b[37m\u001b[0m \u001b[1m0s\u001b[0m 3ms/step - accuracy: 0.7048 - loss: 0.4300 - val_accuracy: 0.7017 - val_loss: 0.4774\n",
            "Epoch 21/30\n",
            "\u001b[1m103/103\u001b[0m \u001b[32m━━━━━━━━━━━━━━━━━━━━\u001b[0m\u001b[37m\u001b[0m \u001b[1m1s\u001b[0m 3ms/step - accuracy: 0.6902 - loss: 0.4202 - val_accuracy: 0.7164 - val_loss: 0.4362\n",
            "Epoch 22/30\n",
            "\u001b[1m103/103\u001b[0m \u001b[32m━━━━━━━━━━━━━━━━━━━━\u001b[0m\u001b[37m\u001b[0m \u001b[1m0s\u001b[0m 3ms/step - accuracy: 0.7205 - loss: 0.4218 - val_accuracy: 0.7274 - val_loss: 0.4273\n",
            "Epoch 23/30\n",
            "\u001b[1m103/103\u001b[0m \u001b[32m━━━━━━━━━━━━━━━━━━━━\u001b[0m\u001b[37m\u001b[0m \u001b[1m0s\u001b[0m 3ms/step - accuracy: 0.7274 - loss: 0.3982 - val_accuracy: 0.6980 - val_loss: 0.4730\n",
            "Epoch 24/30\n",
            "\u001b[1m103/103\u001b[0m \u001b[32m━━━━━━━━━━━━━━━━━━━━\u001b[0m\u001b[37m\u001b[0m \u001b[1m1s\u001b[0m 4ms/step - accuracy: 0.7261 - loss: 0.3779 - val_accuracy: 0.6858 - val_loss: 0.5122\n",
            "Epoch 25/30\n",
            "\u001b[1m103/103\u001b[0m \u001b[32m━━━━━━━━━━━━━━━━━━━━\u001b[0m\u001b[37m\u001b[0m \u001b[1m1s\u001b[0m 3ms/step - accuracy: 0.7036 - loss: 0.3963 - val_accuracy: 0.7237 - val_loss: 0.4332\n",
            "Epoch 26/30\n",
            "\u001b[1m103/103\u001b[0m \u001b[32m━━━━━━━━━━━━━━━━━━━━\u001b[0m\u001b[37m\u001b[0m \u001b[1m0s\u001b[0m 3ms/step - accuracy: 0.7295 - loss: 0.3928 - val_accuracy: 0.7066 - val_loss: 0.4812\n",
            "Epoch 27/30\n",
            "\u001b[1m103/103\u001b[0m \u001b[32m━━━━━━━━━━━━━━━━━━━━\u001b[0m\u001b[37m\u001b[0m \u001b[1m1s\u001b[0m 3ms/step - accuracy: 0.7110 - loss: 0.3978 - val_accuracy: 0.7017 - val_loss: 0.4794\n",
            "Epoch 28/30\n",
            "\u001b[1m103/103\u001b[0m \u001b[32m━━━━━━━━━━━━━━━━━━━━\u001b[0m\u001b[37m\u001b[0m \u001b[1m0s\u001b[0m 3ms/step - accuracy: 0.7049 - loss: 0.3955 - val_accuracy: 0.6932 - val_loss: 0.5030\n",
            "Epoch 29/30\n",
            "\u001b[1m103/103\u001b[0m \u001b[32m━━━━━━━━━━━━━━━━━━━━\u001b[0m\u001b[37m\u001b[0m \u001b[1m0s\u001b[0m 3ms/step - accuracy: 0.7077 - loss: 0.3973 - val_accuracy: 0.6968 - val_loss: 0.4652\n",
            "Epoch 30/30\n",
            "\u001b[1m103/103\u001b[0m \u001b[32m━━━━━━━━━━━━━━━━━━━━\u001b[0m\u001b[37m\u001b[0m \u001b[1m0s\u001b[0m 3ms/step - accuracy: 0.6891 - loss: 0.4327 - val_accuracy: 0.7433 - val_loss: 0.4193\n"
          ]
        }
      ]
    },
    {
      "cell_type": "markdown",
      "source": [
        "**Explanation:**\n",
        "\n",
        "By telling the model that stroke cases are more important to learn from, it becomes more sensitive to minority cases — improving recall without harming general performance."
      ],
      "metadata": {
        "id": "QPZkpDV0d0V6"
      }
    },
    {
      "cell_type": "markdown",
      "source": [
        "***Print All Metrics Side by Side***"
      ],
      "metadata": {
        "id": "97IgQuUSd_ZZ"
      }
    },
    {
      "cell_type": "code",
      "source": [
        "# Define a function to evaluate models\n",
        "def evaluate_model(model, name):\n",
        "    y_pred_probs = model.predict(X_test)\n",
        "    y_pred = (y_pred_probs > 0.5).astype(int)\n",
        "    return {\n",
        "        'Model': name,\n",
        "        'Accuracy': accuracy_score(y_test, y_pred),\n",
        "        'Precision': precision_score(y_test, y_pred, zero_division=0),\n",
        "        'Recall': recall_score(y_test, y_pred),\n",
        "        'F1 Score': f1_score(y_test, y_pred)\n",
        "    }\n",
        "\n",
        "# Collect results\n",
        "results = [\n",
        "    evaluate_model(model, 'Baseline'),\n",
        "    evaluate_model(model_v1, 'Strategy 1 – Dropout'),\n",
        "    evaluate_model(model_v2, 'Strategy 2 – LeakyReLU'),\n",
        "    evaluate_model(model_v3, 'Strategy 3 – Class Weights')\n",
        "]\n",
        "\n",
        "# Show as DataFrame\n",
        "results_df = pd.DataFrame(results)\n",
        "print(results_df)\n"
      ],
      "metadata": {
        "colab": {
          "base_uri": "https://localhost:8080/"
        },
        "id": "dG7zOhggd3hP",
        "outputId": "277a8346-c781-48e8-8c26-fb54376f804a"
      },
      "execution_count": 37,
      "outputs": [
        {
          "output_type": "stream",
          "name": "stdout",
          "text": [
            "\u001b[1m32/32\u001b[0m \u001b[32m━━━━━━━━━━━━━━━━━━━━\u001b[0m\u001b[37m\u001b[0m \u001b[1m0s\u001b[0m 2ms/step \n",
            "\u001b[1m32/32\u001b[0m \u001b[32m━━━━━━━━━━━━━━━━━━━━\u001b[0m\u001b[37m\u001b[0m \u001b[1m1s\u001b[0m 11ms/step\n",
            "\u001b[1m32/32\u001b[0m \u001b[32m━━━━━━━━━━━━━━━━━━━━\u001b[0m\u001b[37m\u001b[0m \u001b[1m1s\u001b[0m 25ms/step\n",
            "\u001b[1m32/32\u001b[0m \u001b[32m━━━━━━━━━━━━━━━━━━━━\u001b[0m\u001b[37m\u001b[0m \u001b[1m0s\u001b[0m 5ms/step\n",
            "                        Model  Accuracy  Precision  Recall  F1 Score\n",
            "0                    Baseline  0.950098   0.333333    0.02  0.037736\n",
            "1        Strategy 1 – Dropout  0.951076   0.000000    0.00  0.000000\n",
            "2      Strategy 2 – LeakyReLU  0.951076   0.000000    0.00  0.000000\n",
            "3  Strategy 3 – Class Weights  0.732877   0.129568    0.78  0.222222\n"
          ]
        }
      ]
    },
    {
      "cell_type": "markdown",
      "source": [
        "**Explanation:**\n",
        "\n",
        "This helps you clearly see which model:\n",
        "\n",
        "* Has the best recall or F1 (very important for rare stroke cases)\n",
        "\n",
        "* Maintains a balance of all metrics"
      ],
      "metadata": {
        "id": "9y2vUoCkeG6i"
      }
    },
    {
      "cell_type": "markdown",
      "source": [
        "**Final Model Choice: Strategy 3 – Class Weights**\n",
        "\n",
        "Why?\n",
        "\n",
        "* Accuracy dropped — but that’s okay in imbalanced problems.\n",
        "\n",
        "* This is the only model that actually detects stroke cases with high recall (78%).\n",
        "\n",
        "* F1 score is much better than all others — showing a solid balance between finding strokes and avoiding too many false alarms."
      ],
      "metadata": {
        "id": "XkorFD0zeTt7"
      }
    },
    {
      "cell_type": "markdown",
      "source": [
        "**Recommendation to Healthcare Team**\n",
        "\n",
        "“The chosen model is Strategy 3 – Class Weights, which sacrifices overall accuracy to gain significantly better stroke detection (78% recall).\n",
        "\n",
        "In a medical setting, missing a stroke is much worse than a false positive.\n",
        "This model can help flag high-risk patients early, improving response time and saving lives.”"
      ],
      "metadata": {
        "id": "BCxG_fh2edE7"
      }
    },
    {
      "cell_type": "markdown",
      "source": [
        "**Final Summary & Recommendations**\n",
        "\n",
        "###  Final Model Chosen:\n",
        "**Strategy 3 – Class Weights**\n",
        "\n",
        "###  Justification:\n",
        "- This model achieved **Recall: 78%** and **F1 Score: 0.22**\n",
        "- Although accuracy dropped, it is acceptable because the model is now **much better at detecting actual stroke cases**.\n",
        "- In healthcare, **recall is more important than precision or accuracy** to avoid missing true stroke patients.\n",
        "\n",
        "###  Recommendations to Healthcare Teams:\n",
        "- Use this model as a **decision support tool**, not a final diagnosis.\n",
        "- It can flag **high-risk patients** for further screening, allowing doctors to act earlier.\n",
        "- This model could be integrated into **hospital EMRs** to auto-alert based on patient records.\n",
        "- Continue monitoring and improving with **more real-world data** and domain feedback.\n",
        "\n",
        "### Note:\n",
        "This model is trained on a **public dataset**. Before deployment, it must be:\n",
        "- **Validated on local data**\n",
        "- **Audited for fairness and bias**\n"
      ],
      "metadata": {
        "id": "yofC1XHYenby"
      }
    },
    {
      "cell_type": "code",
      "source": [],
      "metadata": {
        "id": "BsLVYCV_eC5_"
      },
      "execution_count": null,
      "outputs": []
    }
  ]
}